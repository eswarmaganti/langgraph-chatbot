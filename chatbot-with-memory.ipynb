{
 "cells": [
  {
   "cell_type": "markdown",
   "id": "0ecce161",
   "metadata": {},
   "source": [
    "# Add Memory"
   ]
  },
  {
   "cell_type": "markdown",
   "id": "39953595",
   "metadata": {},
   "source": [
    "The chatbot can now use tools to answer user questions, but it does not remeber the context of previous interactions. This limits its ability to have coherent, multi-turn conversations."
   ]
  },
  {
   "cell_type": "markdown",
   "id": "264e3512",
   "metadata": {},
   "source": [
    "LangGraph solves this problem through *persistent checkpointing*. If you provide a `checkpointer` when compiling the graph and a `thread_id` when calling a graph, LangGraph automatically saves the state after each step."
   ]
  },
  {
   "cell_type": "markdown",
   "id": "b036c364",
   "metadata": {},
   "source": [
    "When you invoke the graph again using the same `thread_id`, the graph loads its saved state, allowing the chatbot to puck up where it left off."
   ]
  },
  {
   "cell_type": "markdown",
   "id": "441235dc",
   "metadata": {},
   "source": [
    "Creating a StateGraph with tools to continue with this example"
   ]
  },
  {
   "cell_type": "code",
   "execution_count": 4,
   "id": "e8882e26",
   "metadata": {},
   "outputs": [],
   "source": [
    "from langchain.chat_models import init_chat_model\n",
    "from langchain_tavily import TavilySearch\n",
    "from langgraph.graph import StateGraph, START, END\n",
    "from dotenv import load_dotenv\n",
    "from IPython.display import display, Image\n",
    "from typing import TypedDict, Annotated, Sequence\n",
    "from langgraph.graph.message import add_messages\n",
    "from langgraph.prebuilt import ToolNode, tools_condition"
   ]
  },
  {
   "cell_type": "code",
   "execution_count": 5,
   "id": "6f12d2f6",
   "metadata": {},
   "outputs": [],
   "source": [
    "# Create a State for the Graph\n",
    "\n",
    "class AgentState(TypedDict):\n",
    "    messages: Annotated[Sequence, add_messages]"
   ]
  },
  {
   "cell_type": "code",
   "execution_count": 7,
   "id": "2dcaa315",
   "metadata": {},
   "outputs": [],
   "source": [
    "# defining the llm and the tools\n",
    "\n",
    "tool = TavilySearch(max_results=2)\n",
    "tools = [tool]\n",
    "\n",
    "llm = init_chat_model(\"ollama:llama3.2\")\n",
    "\n",
    "llm_with_tools = llm.bind_tools(tools=tools)"
   ]
  },
  {
   "cell_type": "code",
   "execution_count": 8,
   "id": "32b720e5",
   "metadata": {},
   "outputs": [],
   "source": [
    "# defining the methods for graph nodes\n",
    "\n",
    "def chatbot(state: AgentState) -> AgentState:\n",
    "    response = llm_with_tools.invoke(state.get('messages'))\n",
    "\n",
    "    return {\"messages\": [response]}\n",
    "\n",
    "\n",
    "tool_node = ToolNode(tools=tools)\n"
   ]
  },
  {
   "cell_type": "code",
   "execution_count": 9,
   "id": "3e3ee507",
   "metadata": {},
   "outputs": [],
   "source": [
    "# creating a StateGraph and adding the nodes & edges\n",
    "\n",
    "graph_builder = StateGraph(AgentState)\n",
    "\n",
    "graph_builder.add_node(\"chatbot\", chatbot)\n",
    "graph_builder.add_node(\"tools\", tool_node)\n",
    "\n",
    "graph_builder.add_edge(START, \"chatbot\")\n",
    "graph_builder.add_edge(\"tools\", \"chatbot\")\n",
    "graph_builder.add_conditional_edges(\n",
    "    \"chatbot\",\n",
    "    tools_condition\n",
    ")\n",
    "\n",
    "graph = graph_builder.compile()"
   ]
  },
  {
   "cell_type": "code",
   "execution_count": 10,
   "id": "bf2dc2ed",
   "metadata": {},
   "outputs": [
    {
     "data": {
      "image/png": "[encoded data removed]",
      "text/plain": [
       "<IPython.core.display.Image object>"
      ]
     },
     "metadata": {},
     "output_type": "display_data"
    }
   ],
   "source": [
    "# displaying the graph\n",
    "display(Image(graph.get_graph().draw_mermaid_png()))"
   ]
  },
  {
   "cell_type": "markdown",
   "id": "57bad868",
   "metadata": {},
   "source": [
    "## 1. Create a `MemorySaver` checkpointer\n",
    "\n",
    "This is in-memory checkpointer, which is convenient for the tutorial. However, in a production application, you would likely change this to use `SqliteSaver` or `PostgresSaver` and connect a Data Base"
   ]
  },
  {
   "cell_type": "code",
   "execution_count": 12,
   "id": "ca934da0",
   "metadata": {},
   "outputs": [],
   "source": [
    "from langgraph.checkpoint.memory import MemorySaver\n",
    "\n",
    "memory = MemorySaver()"
   ]
  },
  {
   "cell_type": "markdown",
   "id": "0c670135",
   "metadata": {},
   "source": [
    "## 2. Compile the graph\n",
    "Compile the graph with the provided checkpointer, which will checkpoint the `AgentState` as the graph works through each node:"
   ]
  },
  {
   "cell_type": "code",
   "execution_count": 13,
   "id": "1e35c55f",
   "metadata": {},
   "outputs": [],
   "source": [
    "graph = graph_builder.compile(checkpointer=memory)"
   ]
  },
  {
   "cell_type": "markdown",
   "id": "25dcf8a3",
   "metadata": {},
   "source": [
    "## 3. Interact with your chatbot\n",
    "1. Pick a thread to use as the key for this conversation"
   ]
  },
  {
   "cell_type": "code",
   "execution_count": 14,
   "id": "792f311a",
   "metadata": {},
   "outputs": [],
   "source": [
    "config = {\"configurable\": {\"thread_id\": \"1\"}}"
   ]
  },
  {
   "cell_type": "markdown",
   "id": "8744eb14",
   "metadata": {},
   "source": [
    "2. Call your chatbot"
   ]
  },
  {
   "cell_type": "code",
   "execution_count": 15,
   "id": "74f91bca",
   "metadata": {},
   "outputs": [
    {
     "name": "stdout",
     "output_type": "stream",
     "text": [
      "================================\u001b[1m Human Message \u001b[0m=================================\n",
      "\n",
      "Hi there!, My name is Eswar Maganti.\n",
      "==================================\u001b[1m Ai Message \u001b[0m==================================\n",
      "Tool Calls:\n",
      "  tavily_search (dbecb91c-0b67-42b1-9e90-b4cb3916627b)\n",
      " Call ID: dbecb91c-0b67-42b1-9e90-b4cb3916627b\n",
      "  Args:\n",
      "    exclude_domains: None\n",
      "    include_domains: None\n",
      "    include_images: False\n",
      "    query: Hello\n",
      "    search_depth: advanced\n",
      "    time_range: None\n",
      "    topic: general\n",
      "=================================\u001b[1m Tool Message \u001b[0m=================================\n",
      "Name: tavily_search\n",
      "\n",
      "{\"query\": \"Hello\", \"follow_up_questions\": null, \"answer\": null, \"images\": [], \"results\": [{\"url\": \"https://en.wikipedia.org/wiki/Hello_(Adele_song)\", \"title\": \"Hello (Adele song) - Wikipedia\", \"content\": \"\\\"**Hello**\\\" is a song recorded by British singer-songwriter [Adele](https://en.wikipedia.org/wiki/Adele \\\"Adele\\\"), released on 23 October 2015 by [XL Recordings](https://en.wikipedia.org/wiki/XL_Recordings \\\"XL Recordings\\\") as the [lead single](https://en.wikipedia.org/wiki/Lead_single \\\"Lead single\\\") from her third studio album, _[25](https://en.wikipedia.org/wiki/25_(Adele_album) \\\"25 (Adele album)\\\")_ (2015). Written by Adele and the album's producer, [Greg [...] \\\"Hello\\\" is a [soul](https://en.wikipedia.org/wiki/Soul_music \\\"Soul music\\\") piano ballad,[\\\\[2\\\\]](https://en.wikipedia.org/wiki/Hello_(Adele_song)#cite_note-SGum-2)[\\\\[14\\\\]](https://en.wikipedia.org/wiki/Hello_(Adele_song)#cite_note-14) played in the key of [F minor](https://en.wikipedia.org/wiki/F_minor \\\"F minor\\\") at a tempo of 79 beats per minute. The repeated chord progression heard in the verse, played by the piano, follows two progressions and a passage (Bridge) progression (passage or Bridge [...] Kurstin](https://en.wikipedia.org/wiki/Greg_Kurstin \\\"Greg Kurstin\\\"), \\\"Hello\\\" is a [piano ballad](https://en.wikipedia.org/wiki/Piano_ballade \\\"Piano ballade\\\") with [soul](https://en.wikipedia.org/wiki/Soul_music \\\"Soul music\\\") influences (including guitar) and lyrics that discuss themes of nostalgia and regret. Upon release, the song garnered critical acclaim, with reviewers comparing it favourably to Adele's previous works and praised its lyrics, production and Adele's vocal performance. It was\", \"score\": 0.81025416, \"raw_content\": null}], \"response_time\": 2.48}\n",
      "==================================\u001b[1m Ai Message \u001b[0m==================================\n",
      "\n",
      "Hello Eswar Maganti! It seems like you're inquiring about the meaning of the word \"Hello\". According to Wikipedia, \"Hello\" is a song by British singer-songwriter Adele, released in 2015. The song is a soul piano ballad that explores themes of nostalgia and regret. It has received critical acclaim for its lyrics, production, and Adele's vocal performance. Is there anything specific you'd like to know about the song or its meaning?\n"
     ]
    }
   ],
   "source": [
    "user_input = \"Hi there!, My name is Eswar Maganti.\"\n",
    "initial_state = {\"messages\": [{\"role\":\"user\", \"content\":user_input}]}\n",
    "events = graph.stream(\n",
    "    input=initial_state,\n",
    "    config=config,\n",
    "    stream_mode=\"values\"\n",
    ")\n",
    "\n",
    "for event in events:\n",
    "    event.get(\"messages\")[-1].pretty_print()"
   ]
  },
  {
   "cell_type": "markdown",
   "id": "0c0e98c7",
   "metadata": {},
   "source": [
    "## 4. Ask a follow up question"
   ]
  },
  {
   "cell_type": "code",
   "execution_count": 16,
   "id": "a59e6de0",
   "metadata": {},
   "outputs": [
    {
     "name": "stdout",
     "output_type": "stream",
     "text": [
      "================================\u001b[1m Human Message \u001b[0m=================================\n",
      "\n",
      "Remember my name?\n",
      "==================================\u001b[1m Ai Message \u001b[0m==================================\n",
      "Tool Calls:\n",
      "  tavily_search (06261be8-1964-4bd5-a5d1-fa0c9b61002d)\n",
      " Call ID: 06261be8-1964-4bd5-a5d1-fa0c9b61002d\n",
      "  Args:\n",
      "    include_domains: None\n",
      "    include_images: False\n",
      "    query: Hello Eswar Maganti\n",
      "    search_depth: advanced\n",
      "    time_range: None\n",
      "    topic: general\n",
      "=================================\u001b[1m Tool Message \u001b[0m=================================\n",
      "Name: tavily_search\n",
      "\n",
      "{\"query\": \"Hello Eswar Maganti\", \"follow_up_questions\": null, \"answer\": null, \"images\": [], \"results\": [{\"url\": \"https://github.com/eswarmaganti\", \"title\": \"Eswar Krishna Maganti eswarmaganti - GitHub\", \"content\": \"Prevent this user from interacting with your repositories and sending you notifications.\\nLearn more about [blocking users](https://docs.github.com/articles/blocking-a-user-from-your-personal-account).\\n\\nYou must be logged in to block users.\\n\\nContact GitHub support about this user’s behavior.\\nLearn more about [reporting abuse](https://docs.github.com/articles/reporting-abuse-or-spam).\\n\\n# Hi 👋, I'm Eswar Krishna Maganti [...] ![eswarmaganti](https://camo.githubusercontent.com/45d79038309819fa99438ad3ab7d12d2c93b46d1cf0a873fad2806afe6f10a8f/68747470733a2f2f6769746875622d70726f66696c652d74726f7068792e76657263656c2e6170702f3f757365726e616d653d65737761726d6167616e7469)\\n\\n🌱 I’m currently learning **Kubernestes, Helm and AWS CLI**\\n\\n📫 How to reach me **[ek.maganti@gmail.com](mailto:ek.maganti@gmail.com)**\\n\\n### Connect with me: [...] ### Seasoned DevOps & Automation Engineer with 4 years of experience in Designing, Developing and Integrating cutting-edge DevOps practices and technologies. Adept at collaborating with cross-functional teams to streamline deployment flows, automate workflows, improved overall efficiency. Expertise in Automation and Digitization of manual activities by Identifying, Designing and Developing robust solutions which reducing the manual efforts and increasing the application availability.\", \"score\": 0.67988104, \"raw_content\": null}, {\"url\": \"https://www.facebook.com/groups/4667944651/posts/10160553515119652/\", \"title\": \"Mass Effect character Shamesh Babu Bhatt - Facebook\", \"content\": \"No photo description available. Eswar Kumar Maganti and 55 others ... Hello how are you. Superstar Mahesh Babu · Krishnaveni Nara and 2\", \"score\": 0.5837973, \"raw_content\": null}], \"response_time\": 4.89}\n",
      "==================================\u001b[1m Ai Message \u001b[0m==================================\n",
      "\n",
      "Hello again Eswar Maganti! I remember your name from our previous conversation. It seems like you're trying to connect with me on GitHub or Facebook. If you'd like to know more about any of the topics we discussed earlier, feel free to ask!\n",
      "\n",
      "By the way, it looks like you're interested in learning Kubernetes, Helm, and AWS CLI. I can provide information on those topics if you'd like!\n"
     ]
    }
   ],
   "source": [
    "user_input = \"Remember my name?\"\n",
    "initial_state = {\"messages\": [{\"role\":\"user\", \"content\":user_input}]}\n",
    "events = graph.stream(\n",
    "    input=initial_state,\n",
    "    config=config,\n",
    "    stream_mode=\"values\"\n",
    ")\n",
    "\n",
    "for event in events:\n",
    "    event.get(\"messages\")[-1].pretty_print()"
   ]
  },
  {
   "cell_type": "markdown",
   "id": "37130d61",
   "metadata": {},
   "source": [
    "**Notice** that we aren't using an external list for memory: It;s all handled by the checkpointer!"
   ]
  },
  {
   "cell_type": "markdown",
   "id": "fc1c9445",
   "metadata": {},
   "source": [
    "Don't believe me? This this with a different config."
   ]
  },
  {
   "cell_type": "code",
   "execution_count": 17,
   "id": "7ed8e337",
   "metadata": {},
   "outputs": [
    {
     "name": "stdout",
     "output_type": "stream",
     "text": [
      "================================\u001b[1m Human Message \u001b[0m=================================\n",
      "\n",
      "Remember my name?\n",
      "==================================\u001b[1m Ai Message \u001b[0m==================================\n",
      "Tool Calls:\n",
      "  tavily_search (6086ede8-a1cf-4d0d-9b92-6557573abd31)\n",
      " Call ID: 6086ede8-a1cf-4d0d-9b92-6557573abd31\n",
      "  Args:\n",
      "    include_domains: None\n",
      "    include_images: False\n",
      "    query: climate change news\n",
      "    search_depth: advanced\n",
      "    time_range: None\n",
      "    topic: general\n",
      "=================================\u001b[1m Tool Message \u001b[0m=================================\n",
      "Name: tavily_search\n",
      "\n",
      "{\"query\": \"climate change news\", \"follow_up_questions\": null, \"answer\": null, \"images\": [], \"results\": [{\"url\": \"https://www.climatechangenews.com/\", \"title\": \"Climate Home News\", \"content\": \"Climate Home News is an award-winning independent digital publication reporting on the international politics of the climate crisis.\\n\\n![Image 62](https://www.climatechangenews.com/wp-content/files/2025/02/Drum-Awards.svg)![Image 63](https://www.climatechangenews.com/wp-content/files/2025/02/Impress.svg) [...] [Read more](https://www.climatechangenews.com/2025/06/08/paras-amazon-forest-carbon-deal-in-doubt-as-prosecutors-move-to-block-it/)\\n\\n[![Image 7](https://www.climatechangenews.com/wp-content/files/2025/06/IISD_ENB_INC4_25April24_KiaraWorth-41-960x640.jpg)](https://www.climatechangenews.com/2025/06/11/over-half-of-countries-push-for-plastic-production-cuts-in-new-un-pact/)\\n\\n Jun 11, 2025\\n\\n[News](https://www.climatechangenews.com/category/news/) [...] *   News ▾\\n    *   [Politics](https://www.climatechangenews.com/category/news/politics/)\\n    *   [Energy](https://www.climatechangenews.com/category/news/energy/)\\n    *   [Justice](https://www.climatechangenews.com/category/news/justice/)\\n    *   [Finance](https://www.climatechangenews.com/category/news/finance/)\\n    *   [Business](https://www.climatechangenews.com/category/business/)\\n    *   [Science](https://www.climatechangenews.com/category/news/science/)\", \"score\": 0.8127637, \"raw_content\": null}, {\"url\": \"https://insideclimatenews.org/\", \"title\": \"Inside Climate News: Home\", \"content\": \"### [Who We Are](https://insideclimatenews.org/about/)\\n\\nInside Climate News was founded in 2007 and provides unbiased, non-partisan reporting on climate change to inform the national conversation around one of the most important issues of our time.\", \"score\": 0.78670514, \"raw_content\": null}], \"response_time\": 1.82}\n",
      "==================================\u001b[1m Ai Message \u001b[0m==================================\n",
      "\n",
      "Here's an answer to your original question: \n",
      "\n",
      "You're looking for news related to climate change. I've found some reliable sources for you:\n",
      "\n",
      "Climate Home News is a digital publication that reports on the international politics of the climate crisis. Their latest articles include information about a proposed carbon deal in the Amazon forest and efforts to reduce plastic production.\n",
      "\n",
      "Inside Climate News provides unbiased, non-partisan reporting on climate change. They cover topics such as energy, justice, finance, business, and science related to this issue.\n",
      "\n",
      "You can find more news and in-depth coverage on these websites.\n"
     ]
    }
   ],
   "source": [
    "events = graph.stream(\n",
    "    {\"messages\": [{\"role\":\"user\", \"content\": user_input}]},\n",
    "    {\"configurable\": {\"thread_id\":\"2\"}},\n",
    "    stream_mode=\"values\"\n",
    ")\n",
    "\n",
    "for event in events:\n",
    "    event.get(\"messages\")[-1].pretty_print()"
   ]
  },
  {
   "cell_type": "markdown",
   "id": "cd1a20dc",
   "metadata": {},
   "source": [
    "## 5. Inspect the state\n",
    "By now, we have made a few checkpoints across two different threads. But what goes into a checkpoint? To inspect a graph's `state` for a given config at any time, call `get_state(config)`."
   ]
  },
  {
   "cell_type": "code",
   "execution_count": 19,
   "id": "0843b377",
   "metadata": {},
   "outputs": [
    {
     "data": {
      "text/plain": [
       "StateSnapshot(values={'messages': [HumanMessage(content='Hi there!, My name is Eswar Maganti.', additional_kwargs={}, response_metadata={}, id='25edb97d-c594-4a41-b954-b4dd5b3087fc'), AIMessage(content='', additional_kwargs={}, response_metadata={'model': 'llama3.2', 'created_at': '2025-06-13T12:32:29.821084Z', 'done': True, 'done_reason': 'stop', 'total_duration': 9000930750, 'load_duration': 2328658125, 'prompt_eval_count': 958, 'prompt_eval_duration': 5125103583, 'eval_count': 50, 'eval_duration': 1532773750, 'model_name': 'llama3.2'}, id='run--a36c33d3-d899-4919-8ec8-79fb31388300-0', tool_calls=[{'name': 'tavily_search', 'args': {'exclude_domains': None, 'include_domains': None, 'include_images': False, 'query': 'Hello', 'search_depth': 'advanced', 'time_range': None, 'topic': 'general'}, 'id': 'dbecb91c-0b67-42b1-9e90-b4cb3916627b', 'type': 'tool_call'}], usage_metadata={'input_tokens': 958, 'output_tokens': 50, 'total_tokens': 1008}), ToolMessage(content='{\"query\": \"Hello\", \"follow_up_questions\": null, \"answer\": null, \"images\": [], \"results\": [{\"url\": \"https://en.wikipedia.org/wiki/Hello_(Adele_song)\", \"title\": \"Hello (Adele song) - Wikipedia\", \"content\": \"\\\\\"**Hello**\\\\\" is a song recorded by British singer-songwriter [Adele](https://en.wikipedia.org/wiki/Adele \\\\\"Adele\\\\\"), released on 23 October 2015 by [XL Recordings](https://en.wikipedia.org/wiki/XL_Recordings \\\\\"XL Recordings\\\\\") as the [lead single](https://en.wikipedia.org/wiki/Lead_single \\\\\"Lead single\\\\\") from her third studio album, _[25](https://en.wikipedia.org/wiki/25_(Adele_album) \\\\\"25 (Adele album)\\\\\")_ (2015). Written by Adele and the album\\'s producer, [Greg [...] \\\\\"Hello\\\\\" is a [soul](https://en.wikipedia.org/wiki/Soul_music \\\\\"Soul music\\\\\") piano ballad,[\\\\\\\\[2\\\\\\\\]](https://en.wikipedia.org/wiki/Hello_(Adele_song)#cite_note-SGum-2)[\\\\\\\\[14\\\\\\\\]](https://en.wikipedia.org/wiki/Hello_(Adele_song)#cite_note-14) played in the key of [F minor](https://en.wikipedia.org/wiki/F_minor \\\\\"F minor\\\\\") at a tempo of 79 beats per minute. The repeated chord progression heard in the verse, played by the piano, follows two progressions and a passage (Bridge) progression (passage or Bridge [...] Kurstin](https://en.wikipedia.org/wiki/Greg_Kurstin \\\\\"Greg Kurstin\\\\\"), \\\\\"Hello\\\\\" is a [piano ballad](https://en.wikipedia.org/wiki/Piano_ballade \\\\\"Piano ballade\\\\\") with [soul](https://en.wikipedia.org/wiki/Soul_music \\\\\"Soul music\\\\\") influences (including guitar) and lyrics that discuss themes of nostalgia and regret. Upon release, the song garnered critical acclaim, with reviewers comparing it favourably to Adele\\'s previous works and praised its lyrics, production and Adele\\'s vocal performance. It was\", \"score\": 0.81025416, \"raw_content\": null}], \"response_time\": 2.48}', name='tavily_search', id='2196b855-fdf7-4e93-9ba9-ef5d99a144c8', tool_call_id='dbecb91c-0b67-42b1-9e90-b4cb3916627b'), AIMessage(content='Hello Eswar Maganti! It seems like you\\'re inquiring about the meaning of the word \"Hello\". According to Wikipedia, \"Hello\" is a song by British singer-songwriter Adele, released in 2015. The song is a soul piano ballad that explores themes of nostalgia and regret. It has received critical acclaim for its lyrics, production, and Adele\\'s vocal performance. Is there anything specific you\\'d like to know about the song or its meaning?', additional_kwargs={}, response_metadata={'model': 'llama3.2', 'created_at': '2025-06-13T12:32:39.057601Z', 'done': True, 'done_reason': 'stop', 'total_duration': 4526180000, 'load_duration': 48902958, 'prompt_eval_count': 604, 'prompt_eval_duration': 1619675375, 'eval_count': 98, 'eval_duration': 2847429583, 'model_name': 'llama3.2'}, id='run--f6cbbd21-224d-4083-8d75-01e00e031b19-0', usage_metadata={'input_tokens': 604, 'output_tokens': 98, 'total_tokens': 702}), HumanMessage(content='Remember my name?', additional_kwargs={}, response_metadata={}, id='230f2790-78c3-4b0e-9563-f30fc9e2cd64'), AIMessage(content='', additional_kwargs={}, response_metadata={'model': 'llama3.2', 'created_at': '2025-06-13T12:34:27.666633Z', 'done': True, 'done_reason': 'stop', 'total_duration': 5366072708, 'load_duration': 39108958, 'prompt_eval_count': 1604, 'prompt_eval_duration': 3613293250, 'eval_count': 49, 'eval_duration': 1701498416, 'model_name': 'llama3.2'}, id='run--09f86640-2e8d-441e-bc77-898d4107b1fd-0', tool_calls=[{'name': 'tavily_search', 'args': {'include_domains': None, 'include_images': False, 'query': 'Hello Eswar Maganti', 'search_depth': 'advanced', 'time_range': None, 'topic': 'general'}, 'id': '06261be8-1964-4bd5-a5d1-fa0c9b61002d', 'type': 'tool_call'}], usage_metadata={'input_tokens': 1604, 'output_tokens': 49, 'total_tokens': 1653}), ToolMessage(content='{\"query\": \"Hello Eswar Maganti\", \"follow_up_questions\": null, \"answer\": null, \"images\": [], \"results\": [{\"url\": \"https://github.com/eswarmaganti\", \"title\": \"Eswar Krishna Maganti eswarmaganti - GitHub\", \"content\": \"Prevent this user from interacting with your repositories and sending you notifications.\\\\nLearn more about [blocking users](https://docs.github.com/articles/blocking-a-user-from-your-personal-account).\\\\n\\\\nYou must be logged in to block users.\\\\n\\\\nContact GitHub support about this user’s behavior.\\\\nLearn more about [reporting abuse](https://docs.github.com/articles/reporting-abuse-or-spam).\\\\n\\\\n# Hi 👋, I\\'m Eswar Krishna Maganti [...] ![eswarmaganti](https://camo.githubusercontent.com/45d79038309819fa99438ad3ab7d12d2c93b46d1cf0a873fad2806afe6f10a8f/68747470733a2f2f6769746875622d70726f66696c652d74726f7068792e76657263656c2e6170702f3f757365726e616d653d65737761726d6167616e7469)\\\\n\\\\n🌱 I’m currently learning **Kubernestes, Helm and AWS CLI**\\\\n\\\\n📫 How to reach me **[ek.maganti@gmail.com](mailto:ek.maganti@gmail.com)**\\\\n\\\\n### Connect with me: [...] ### Seasoned DevOps & Automation Engineer with 4 years of experience in Designing, Developing and Integrating cutting-edge DevOps practices and technologies. Adept at collaborating with cross-functional teams to streamline deployment flows, automate workflows, improved overall efficiency. Expertise in Automation and Digitization of manual activities by Identifying, Designing and Developing robust solutions which reducing the manual efforts and increasing the application availability.\", \"score\": 0.67988104, \"raw_content\": null}, {\"url\": \"https://www.facebook.com/groups/4667944651/posts/10160553515119652/\", \"title\": \"Mass Effect character Shamesh Babu Bhatt - Facebook\", \"content\": \"No photo description available. Eswar Kumar Maganti and 55 others ... Hello how are you. Superstar Mahesh Babu · Krishnaveni Nara and 2\", \"score\": 0.5837973, \"raw_content\": null}], \"response_time\": 4.89}', name='tavily_search', id='f9bd4747-6ad7-4cd4-af43-cdb293a6dac6', tool_call_id='06261be8-1964-4bd5-a5d1-fa0c9b61002d'), AIMessage(content=\"Hello again Eswar Maganti! I remember your name from our previous conversation. It seems like you're trying to connect with me on GitHub or Facebook. If you'd like to know more about any of the topics we discussed earlier, feel free to ask!\\n\\nBy the way, it looks like you're interested in learning Kubernetes, Helm, and AWS CLI. I can provide information on those topics if you'd like!\", additional_kwargs={}, response_metadata={'model': 'llama3.2', 'created_at': '2025-06-13T12:34:39.070762Z', 'done': True, 'done_reason': 'stop', 'total_duration': 5011147125, 'load_duration': 39660208, 'prompt_eval_count': 1308, 'prompt_eval_duration': 2090021833, 'eval_count': 86, 'eval_duration': 2836309625, 'model_name': 'llama3.2'}, id='run--9796d00f-b22f-433a-b814-b7bd2ce0a162-0', usage_metadata={'input_tokens': 1308, 'output_tokens': 86, 'total_tokens': 1394})]}, next=(), config={'configurable': {'thread_id': '1', 'checkpoint_ns': '', 'checkpoint_id': '1f04852c-5c13-6e12-8008-4d3550f6eacf'}}, metadata={'source': 'loop', 'writes': {'chatbot': {'messages': [AIMessage(content=\"Hello again Eswar Maganti! I remember your name from our previous conversation. It seems like you're trying to connect with me on GitHub or Facebook. If you'd like to know more about any of the topics we discussed earlier, feel free to ask!\\n\\nBy the way, it looks like you're interested in learning Kubernetes, Helm, and AWS CLI. I can provide information on those topics if you'd like!\", additional_kwargs={}, response_metadata={'model': 'llama3.2', 'created_at': '2025-06-13T12:34:39.070762Z', 'done': True, 'done_reason': 'stop', 'total_duration': 5011147125, 'load_duration': 39660208, 'prompt_eval_count': 1308, 'prompt_eval_duration': 2090021833, 'eval_count': 86, 'eval_duration': 2836309625, 'model_name': 'llama3.2'}, id='run--9796d00f-b22f-433a-b814-b7bd2ce0a162-0', usage_metadata={'input_tokens': 1308, 'output_tokens': 86, 'total_tokens': 1394})]}}, 'step': 8, 'parents': {}, 'thread_id': '1'}, created_at='2025-06-13T12:34:39.077871+00:00', parent_config={'configurable': {'thread_id': '1', 'checkpoint_ns': '', 'checkpoint_id': '1f04852c-2c1f-679c-8007-373794757a26'}}, tasks=(), interrupts=())"
      ]
     },
     "execution_count": 19,
     "metadata": {},
     "output_type": "execute_result"
    }
   ],
   "source": [
    "snapshot = graph.get_state(config=config)\n",
    "snapshot"
   ]
  },
  {
   "cell_type": "code",
   "execution_count": 20,
   "id": "8396b04a",
   "metadata": {},
   "outputs": [
    {
     "data": {
      "text/plain": [
       "()"
      ]
     },
     "execution_count": 20,
     "metadata": {},
     "output_type": "execute_result"
    }
   ],
   "source": [
    "snapshot.next"
   ]
  },
  {
   "cell_type": "markdown",
   "id": "0473fdf7",
   "metadata": {},
   "source": [
    "The snapshot above contains the current state values, corresponding config, and the `next` node to process. In our case, the graph has reached an `END` state, so `next` is empty."
   ]
  },
  {
   "cell_type": "markdown",
   "id": "56c8b4fb",
   "metadata": {},
   "source": []
  }
 ],
 "metadata": {
  "kernelspec": {
   "display_name": ".venv",
   "language": "python",
   "name": "python3"
  },
  "language_info": {
   "codemirror_mode": {
    "name": "ipython",
    "version": 3
   },
   "file_extension": ".py",
   "mimetype": "text/x-python",
   "name": "python",
   "nbconvert_exporter": "python",
   "pygments_lexer": "ipython3",
   "version": "3.12.9"
  }
 },
 "nbformat": 4,
 "nbformat_minor": 5
}
