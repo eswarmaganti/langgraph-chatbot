{
 "cells": [
  {
   "cell_type": "markdown",
   "id": "2db11650",
   "metadata": {},
   "source": [
    "# Time Travel\n",
    "\n",
    "In a typical chatbot workflow, the users interacts with the bot one or more times to accomlish a task. Memory and a human-in-the-loop enable checkpoints in the graph state and control future responses.\n",
    "\n",
    "What if you want a user to be able to start from a previous response and explore a different outcome> Or what if you want users to be able to rewind your chatbot's work to fix mistakes or try a different strategy, something that is common in applications like autonomous software engineers?\n",
    "\n",
    "You can create these types of experiences using langgraph's built-in **time travel** functionality"
   ]
  },
  {
   "cell_type": "markdown",
   "id": "ab0039c4",
   "metadata": {},
   "source": [
    "## 1. Rewind your graph\n",
    "\n",
    "Rewind your graph by fetching a checkpoint using the graph's `get_state_history` method. You can then resume execution at this previous point in time"
   ]
  },
  {
   "cell_type": "code",
   "execution_count": 1,
   "id": "0b34af10",
   "metadata": {},
   "outputs": [
    {
     "data": {
      "image/png": "[encoded data removed]",
      "text/plain": [
       "<IPython.core.display.Image object>"
      ]
     },
     "metadata": {},
     "output_type": "display_data"
    }
   ],
   "source": [
    "import os\n",
    "from typing import Annotated, TypedDict, Sequence\n",
    "from langchain.chat_models import init_chat_model\n",
    "from langchain_core.messages import BaseMessage\n",
    "from langchain_tavily import TavilySearch\n",
    "\n",
    "from langgraph.graph import StateGraph, START, END\n",
    "from langgraph.prebuilt import ToolNode, tools_condition\n",
    "from langgraph.graph.message import add_messages\n",
    "from langgraph.checkpoint.memory import MemorySaver\n",
    "\n",
    "from IPython.display import Image, display\n",
    "\n",
    "class AgentState(TypedDict):\n",
    "    messages: Annotated[Sequence, add_messages]\n",
    "\n",
    "\n",
    "tool = TavilySearch(max_results=2)\n",
    "tools = [tool]\n",
    "\n",
    "llm = init_chat_model(\"ollama:llama3.2\")\n",
    "llm_with_tools = llm.bind_tools(tools)\n",
    "\n",
    "\n",
    "def chatbot(state: AgentState) -> AgentState:\n",
    "    response = llm_with_tools.invoke(state.get(\"messages\"))\n",
    "    return {\"messages\": [response]}\n",
    "\n",
    "tool_node = ToolNode(tools)\n",
    "\n",
    "graph_builder = StateGraph(AgentState)\n",
    "graph_builder.add_node(\"chatbot\", chatbot)\n",
    "graph_builder.add_node(\"tools\", tool_node)\n",
    "\n",
    "graph_builder.add_edge(START, \"chatbot\")\n",
    "graph_builder.add_edge(\"tools\", \"chatbot\")\n",
    "\n",
    "graph_builder.add_conditional_edges(\"chatbot\", tools_condition)\n",
    "\n",
    "memory = MemorySaver()\n",
    "\n",
    "graph = graph_builder.compile(checkpointer=memory)\n",
    "\n",
    "\n",
    "# display the graph\n",
    "display(Image(graph.get_graph().draw_mermaid_png()))"
   ]
  },
  {
   "cell_type": "markdown",
   "id": "1dce6ddd",
   "metadata": {},
   "source": [
    "## 2. ADD Steps\n",
    "Add steps to your graoh. Every step will be checkpointed in its state history"
   ]
  },
  {
   "cell_type": "code",
   "execution_count": 2,
   "id": "84146e4c",
   "metadata": {},
   "outputs": [
    {
     "name": "stdout",
     "output_type": "stream",
     "text": [
      "================================\u001b[1m Human Message \u001b[0m=================================\n",
      "\n",
      "I'm Learning LangGraph. Could you do some research on it for me?\n",
      "==================================\u001b[1m Ai Message \u001b[0m==================================\n",
      "Tool Calls:\n",
      "  tavily_search (4f69240b-64b9-4ccd-9600-5e8133f4d829)\n",
      " Call ID: 4f69240b-64b9-4ccd-9600-5e8133f4d829\n",
      "  Args:\n",
      "    include_domains: None\n",
      "    include_images: False\n",
      "    query: LangGraph research\n",
      "    search_depth: advanced\n",
      "    time_range: None\n",
      "    topic: general\n",
      "=================================\u001b[1m Tool Message \u001b[0m=================================\n",
      "Name: tavily_search\n",
      "\n",
      "{\"query\": \"LangGraph research\", \"follow_up_questions\": null, \"answer\": null, \"images\": [], \"results\": [{\"url\": \"https://docs.gptr.dev/docs/gpt-researcher/multi_agents/langgraph\", \"title\": \"LangGraph - GPT Researcher\", \"content\": \"![GPT Researcher](/img/gptr-logo.png)\\n![GPT Researcher](/img/gptr-logo.png)\\n\\n# LangGraph\\n\\n[LangGraph](https://python.langchain.com/docs/langgraph) is a library for building stateful, multi-actor applications with LLMs.\\nThis example uses Langgraph to automate the process of an in depth research on any given topic.\\n\\n## Use case[​](#use-case \\\"Direct link to Use case\\\") [...] By using Langgraph, the research process can be significantly improved in depth and quality by leveraging multiple agents with specialized skills.\\nInspired by the recent [STORM](https://arxiv.org/abs/2402.14207) paper, this example showcases how a team of AI agents can work together to conduct research on a given topic, from planning to publication.\\n\\nAn average run generates a 5-6 page research report in multiple formats such as PDF, Docx and Markdown.\", \"score\": 0.81418616, \"raw_content\": null}, {\"url\": \"https://www.pinecone.io/learn/langgraph-research-agent/\", \"title\": \"LangGraph and Research Agents - Pinecone\", \"content\": \"LangGraph is LangChain's graph-based agent framework and one of the most popular frameworks for building graph-based agents. It focuses on providing more \\\"fine-grained\\\" control over an agent's flow and state.\\n\\n### State [...] # LangGraph and Research Agents\\n\\n![James Briggs](/_next/image/?url=https%3A%2F%2Fcdn.sanity.io%2Fimages%2Fvr8gru94%2Fproduction%2F62d5319461cc2459c3055d00c56048f7cf4b67fd-1170x1170.png&w=3840&q=75)\\n\\nResearch agents are multi-step AI agents that aim to provide in-depth answers to user queries. These agents differ from typical conversational agents, where we typically find fast response times and short AI answers. [...] *The remainder of this article will be focused on the implementation of a LangGraph research agent using Python. You can find a copy of the [code here](https://github.com/pinecone-io/examples/blob/master/learn/generation/langchain/langgraph/01-gpt-4o-research-agent.ipynb).*\\n\\n*If following along, make sure to install prerequisite packages first:*\", \"score\": 0.77751994, \"raw_content\": null}], \"response_time\": 1.69}\n",
      "==================================\u001b[1m Ai Message \u001b[0m==================================\n",
      "\n",
      "LangGraph is a library for building stateful, multi-actor applications with Large Language Models (LLMs). It allows researchers to conduct in-depth research on a given topic by leveraging multiple agents with specialized skills. The framework provides more fine-grained control over an agent's flow and state.\n",
      "\n",
      "Researchers can use LangGraph to build AI agents that provide in-depth answers to user queries, differing from typical conversational agents that focus on fast response times and short AI answers. The library is designed to improve the depth and quality of research by working together multiple agents with different skills.\n",
      "\n",
      "LangGraph is inspired by the recent STORM paper and provides a team of AI agents that can work together to conduct research on a given topic, from planning to publication. An average run generates a 5-6 page research report in multiple formats such as PDF, Docx, and Markdown.\n",
      "\n",
      "For more information, you can refer to the official LangGraph documentation or check out the Pinecone article on LangGraph and Research Agents.\n"
     ]
    }
   ],
   "source": [
    "config = {\"configurable\":{\"thread_id\":\"1\"}}\n",
    "\n",
    "initial_state = {\n",
    "    \"messages\":[\n",
    "        {\n",
    "            \"role\": \"user\",\n",
    "            \"content\": (\n",
    "                \"I'm Learning LangGraph. \"\n",
    "                \"Could you do some research on it for me?\"\n",
    "            )\n",
    "        }\n",
    "    ]\n",
    "}\n",
    "\n",
    "events = graph.stream(initial_state, config=config, stream_mode=\"values\")\n",
    "\n",
    "for event in events:\n",
    "    if \"messages\" in event:\n",
    "        event.get(\"messages\")[-1].pretty_print()"
   ]
  },
  {
   "cell_type": "code",
   "execution_count": 3,
   "id": "d5e2bbf9",
   "metadata": {},
   "outputs": [
    {
     "name": "stdout",
     "output_type": "stream",
     "text": [
      "================================\u001b[1m Human Message \u001b[0m=================================\n",
      "\n",
      "Ya that's helpful. Maybe I'll build an autonomous agent with it!\n",
      "==================================\u001b[1m Ai Message \u001b[0m==================================\n",
      "Tool Calls:\n",
      "  tavily_search (18892f3e-38ef-40f4-91da-5058494572d0)\n",
      " Call ID: 18892f3e-38ef-40f4-91da-5058494572d0\n",
      "  Args:\n",
      "    include_domains: None\n",
      "    include_images: False\n",
      "    query: building autonomous agent with LangGraph\n",
      "    search_depth: advanced\n",
      "    time_range: None\n",
      "    topic: general\n",
      "=================================\u001b[1m Tool Message \u001b[0m=================================\n",
      "Name: tavily_search\n",
      "\n",
      "{\"query\": \"building autonomous agent with LangGraph\", \"follow_up_questions\": null, \"answer\": null, \"images\": [], \"results\": [{\"url\": \"https://www.amazon.com/Building-Autonomous-Agents-LangGraph-Developers/dp/B0DVR7LL3G\", \"title\": \"Building Autonomous AI Agents with LangGraph: A Developer's Guide\", \"content\": \"Building Autonomous AI Agents with LangGraph: A Developer’s Guide is the ultimate resource for developers who want to harness the power of modern graph-based AI. This comprehensive guide demystifies LangGraph and provides a complete LangGraph blueprint for designing, building, and optimizing autonomous AI agents. Whether you’re a seasoned coder or just starting out, this book is packed with practical insights, detailed LangGraph code examples, and hands-on projects that will take your skills to [...] Join the community of forward-thinking developers and embrace the future of autonomous AI. Dive into Building Autonomous AI Agents with LangGraph: A Developer’s Guide and transform your ideas into reality. Whether you’re looking to refine your skills with LangGraph code examples or expand your toolkit with practical insights into LangGraph and LangChain, this is the definitive langraph book you’ve been waiting for. [...] This guide stands out among LangGraph books by offering the complete LangGraph blueprint you need to master every aspect of managing autonomous systems. Learn how to create AI agent LangGraph designs that not only simplify the development process but also empower you to build sophisticated, self-operating systems. Our step-by-step tutorials cover everything—from basic graph theory to mastering LangGraph, ensuring you gain the confidence to tackle complex projects with ease.\", \"score\": 0.8820324, \"raw_content\": null}, {\"url\": \"https://www.coursera.org/learn/packt-building-autonomous-ai-agents-with-langgraph-oyjym\", \"title\": \"Building Autonomous AI Agents with LangGraph | Coursera\", \"content\": \"What you'll learn. Build autonomous AI agents with advanced query handling and state management. Integrate LangGraph to design scalable, interactive AI systems.\", \"score\": 0.85008353, \"raw_content\": null}], \"response_time\": 1.65}\n",
      "==================================\u001b[1m Ai Message \u001b[0m==================================\n",
      "\n",
      "To build an autonomous agent with LangGraph, you can start by checking out the book \"Building Autonomous AI Agents with LangGraph: A Developer's Guide\" which provides a comprehensive resource for developers who want to harness the power of modern graph-based AI.\n",
      "\n",
      "The book covers practical insights, detailed LangGraph code examples, and hands-on projects that will help you transform your ideas into reality. It also offers a complete LangGraph blueprint for designing, building, and optimizing autonomous AI agents.\n",
      "\n",
      "Additionally, you can check out Coursera's course \"Building Autonomous AI Agents with LangGraph\" which covers topics such as building autonomous AI agents with advanced query handling and state management, integrating LangGraph to design scalable, interactive AI systems.\n",
      "\n",
      "Both resources will provide you with the skills and knowledge needed to create AI agent LangGraph designs that simplify the development process and empower you to build sophisticated, self-operating systems.\n"
     ]
    }
   ],
   "source": [
    "initial_state = {\n",
    "    \"messages\":[\n",
    "        {\n",
    "            \"role\": \"user\",\n",
    "            \"content\": (\n",
    "                \"Ya that's helpful. Maybe I'll \"\n",
    "                \"build an autonomous agent with it!\"\n",
    "            )\n",
    "        }\n",
    "    ]\n",
    "}\n",
    "\n",
    "\n",
    "events = graph.stream(initial_state, config=config, stream_mode=\"values\")\n",
    "\n",
    "for event in events:\n",
    "    if \"messages\" in event:\n",
    "        event.get(\"messages\")[-1].pretty_print()"
   ]
  },
  {
   "cell_type": "markdown",
   "id": "a19a90c6",
   "metadata": {},
   "source": [
    "## 3. Reply the full state history\n",
    "Now that you have added steps to the chatbot, you can `reply` the full state history to see everything that occurred."
   ]
  },
  {
   "cell_type": "code",
   "execution_count": 5,
   "id": "8daa2c3a",
   "metadata": {},
   "outputs": [
    {
     "name": "stdout",
     "output_type": "stream",
     "text": [
      "Num Messages: 8, Next: ()\n",
      "--------------------------------------------------------------------------------\n",
      "Num Messages: 7, Next: ('chatbot',)\n",
      "--------------------------------------------------------------------------------\n",
      "Num Messages: 6, Next: ('tools',)\n",
      "--------------------------------------------------------------------------------\n",
      "Num Messages: 5, Next: ('chatbot',)\n",
      "--------------------------------------------------------------------------------\n",
      "Num Messages: 4, Next: ('__start__',)\n",
      "--------------------------------------------------------------------------------\n",
      "Num Messages: 4, Next: ()\n",
      "--------------------------------------------------------------------------------\n",
      "Num Messages: 3, Next: ('chatbot',)\n",
      "--------------------------------------------------------------------------------\n",
      "Num Messages: 2, Next: ('tools',)\n",
      "--------------------------------------------------------------------------------\n",
      "Num Messages: 1, Next: ('chatbot',)\n",
      "--------------------------------------------------------------------------------\n",
      "Num Messages: 0, Next: ('__start__',)\n",
      "--------------------------------------------------------------------------------\n"
     ]
    }
   ],
   "source": [
    "to_reply = None\n",
    "\n",
    "for state in graph.get_state_history(config=config):\n",
    "    print(f\"Num Messages: {len(state.values['messages'])}, Next: {state.next}\")\n",
    "    print(\"-\" * 80)\n",
    "\n",
    "    if len(state.values['messages']) == 6:\n",
    "        to_reply = state"
   ]
  },
  {
   "cell_type": "markdown",
   "id": "902644e5",
   "metadata": {},
   "source": [
    "Checkpoints are  saved for every step of the graph. This **spans invocations** so you can rewind across a full thread's history.\n",
    "\n",
    "### Resume from a checkpoint\n",
    "Resume from the `to_reply` state, wchih is after the `chatbot` node in the seconf graph invocation. Resuming from this point will call the action node next."
   ]
  },
  {
   "cell_type": "code",
   "execution_count": 6,
   "id": "23f87472",
   "metadata": {},
   "outputs": [
    {
     "name": "stdout",
     "output_type": "stream",
     "text": [
      "('tools',)\n",
      "{'configurable': {'thread_id': '1', 'checkpoint_ns': '', 'checkpoint_id': '1f049c1e-e38f-6982-8006-e8680494f241'}}\n"
     ]
    }
   ],
   "source": [
    "print(to_reply.next)\n",
    "print(to_reply.config)"
   ]
  },
  {
   "cell_type": "markdown",
   "id": "00b12e27",
   "metadata": {},
   "source": [
    "## 4. Load the state from the moment-in-time"
   ]
  },
  {
   "cell_type": "markdown",
   "id": "73d1f73c",
   "metadata": {},
   "source": [
    "The checkpoint's `to_reply.config` contains a `checkpoint_id` timestamp. Providing this `checkpoint_id` value tells LangGraph's checkpointer to **load** the state from that moment in time"
   ]
  },
  {
   "cell_type": "code",
   "execution_count": 7,
   "id": "9cc6ece8",
   "metadata": {},
   "outputs": [
    {
     "name": "stdout",
     "output_type": "stream",
     "text": [
      "==================================\u001b[1m Ai Message \u001b[0m==================================\n",
      "Tool Calls:\n",
      "  tavily_search (18892f3e-38ef-40f4-91da-5058494572d0)\n",
      " Call ID: 18892f3e-38ef-40f4-91da-5058494572d0\n",
      "  Args:\n",
      "    include_domains: None\n",
      "    include_images: False\n",
      "    query: building autonomous agent with LangGraph\n",
      "    search_depth: advanced\n",
      "    time_range: None\n",
      "    topic: general\n",
      "=================================\u001b[1m Tool Message \u001b[0m=================================\n",
      "Name: tavily_search\n",
      "\n",
      "{\"query\": \"building autonomous agent with LangGraph\", \"follow_up_questions\": null, \"answer\": null, \"images\": [], \"results\": [{\"url\": \"https://www.amazon.com/Building-Autonomous-Agents-LangGraph-Developers/dp/B0DVR7LL3G\", \"title\": \"Building Autonomous AI Agents with LangGraph: A Developer's Guide\", \"content\": \"Building Autonomous AI Agents with LangGraph: A Developer’s Guide is the ultimate resource for developers who want to harness the power of modern graph-based AI. This comprehensive guide demystifies LangGraph and provides a complete LangGraph blueprint for designing, building, and optimizing autonomous AI agents. Whether you’re a seasoned coder or just starting out, this book is packed with practical insights, detailed LangGraph code examples, and hands-on projects that will take your skills to [...] Join the community of forward-thinking developers and embrace the future of autonomous AI. Dive into Building Autonomous AI Agents with LangGraph: A Developer’s Guide and transform your ideas into reality. Whether you’re looking to refine your skills with LangGraph code examples or expand your toolkit with practical insights into LangGraph and LangChain, this is the definitive langraph book you’ve been waiting for. [...] This guide stands out among LangGraph books by offering the complete LangGraph blueprint you need to master every aspect of managing autonomous systems. Learn how to create AI agent LangGraph designs that not only simplify the development process but also empower you to build sophisticated, self-operating systems. Our step-by-step tutorials cover everything—from basic graph theory to mastering LangGraph, ensuring you gain the confidence to tackle complex projects with ease.\", \"score\": 0.8820324, \"raw_content\": null}, {\"url\": \"https://www.coursera.org/learn/packt-building-autonomous-ai-agents-with-langgraph-oyjym\", \"title\": \"Building Autonomous AI Agents with LangGraph | Coursera\", \"content\": \"What you'll learn. Build autonomous AI agents with advanced query handling and state management. Integrate LangGraph to design scalable, interactive AI systems.\", \"score\": 0.85008353, \"raw_content\": null}], \"response_time\": 1.36}\n",
      "==================================\u001b[1m Ai Message \u001b[0m==================================\n",
      "\n",
      "It seems that you can build an autonomous agent using LangGraph. There are several resources available to help you get started, including a comprehensive guide book and an online course on Coursera.\n",
      "\n",
      "The guide book, \"Building Autonomous AI Agents with LangGraph: A Developer's Guide\", provides a complete blueprint for designing, building, and optimizing autonomous AI agents using LangGraph. It covers practical insights, detailed code examples, and hands-on projects to help you master LangGraph and build sophisticated self-operating systems.\n",
      "\n",
      "The online course on Coursera, also titled \"Building Autonomous AI Agents with LangGraph\", teaches you how to build autonomous AI agents with advanced query handling and state management, and integrate LangGraph to design scalable and interactive AI systems.\n",
      "\n",
      "These resources can provide you with the knowledge and skills needed to create an autonomous agent using LangGraph.\n"
     ]
    }
   ],
   "source": [
    "for event in graph.stream(None, to_reply.config, stream_mode=\"values\"):\n",
    "    if \"messages\" in event:\n",
    "        event.get(\"messages\")[-1].pretty_print()"
   ]
  },
  {
   "cell_type": "markdown",
   "id": "fdd911c8",
   "metadata": {},
   "source": [
    "The graph resumed execution from the `action` node. You can tell this is the case since the first value printed above is the response from our search engine tool.\n"
   ]
  },
  {
   "cell_type": "markdown",
   "id": "5be78d12",
   "metadata": {},
   "source": []
  }
 ],
 "metadata": {
  "kernelspec": {
   "display_name": ".venv",
   "language": "python",
   "name": "python3"
  },
  "language_info": {
   "codemirror_mode": {
    "name": "ipython",
    "version": 3
   },
   "file_extension": ".py",
   "mimetype": "text/x-python",
   "name": "python",
   "nbconvert_exporter": "python",
   "pygments_lexer": "ipython3",
   "version": "3.12.9"
  }
 },
 "nbformat": 4,
 "nbformat_minor": 5
}
