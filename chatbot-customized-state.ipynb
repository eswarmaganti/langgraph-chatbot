{
 "cells": [
  {
   "cell_type": "markdown",
   "id": "3650b60c",
   "metadata": {},
   "source": [
    "# Customize State\n",
    "\n",
    "In this tutorial we will add additional fields to the state to define complex behaviour without relying on the message list. THe chatbot will use its seach tool to find specific information and forward them to the human for review.\n"
   ]
  },
  {
   "cell_type": "markdown",
   "id": "27ed2dcf",
   "metadata": {},
   "source": [
    "## 1. Add keys to the State"
   ]
  },
  {
   "cell_type": "markdown",
   "id": "74628b6b",
   "metadata": {},
   "source": [
    "Update the chatbot to research the birthday of an entity by adding `name` and `birthday` keys to the state:"
   ]
  },
  {
   "cell_type": "code",
   "execution_count": 58,
   "id": "1348a651",
   "metadata": {},
   "outputs": [],
   "source": [
    "# defining the state\n",
    "\n",
    "from langgraph.graph import StateGraph, START, END\n",
    "from typing import TypedDict, Annotated, Sequence\n",
    "from langgraph.graph.message import add_messages\n",
    "\n",
    "class AgentState(TypedDict):\n",
    "    messages: Annotated[Sequence, add_messages]\n",
    "    name: str\n",
    "    birthday: str"
   ]
  },
  {
   "cell_type": "markdown",
   "id": "2f94d237",
   "metadata": {},
   "source": [
    "## 2. Update the state inside the tool\n",
    "Now, populate the state keys inside of the `human_assistance` tool. This allows a human to review the information before it is stored in the state. Use `Command` to issue a state update from inside the tool"
   ]
  },
  {
   "cell_type": "code",
   "execution_count": 59,
   "id": "a847233c",
   "metadata": {},
   "outputs": [],
   "source": [
    "from langchain_core.messages import ToolMessage\n",
    "from langchain_core.tools import tool, InjectedToolCallId\n",
    "from langgraph.types import Command, interrupt\n",
    "\n",
    "@tool\n",
    "# Note that because we are generating a ToolMessage for a state update, we generally require the ID of the corresponding\n",
    "# tool call. We can use langchain's InjectedToolCallId to signal that this argument should no be revealed to the model in the tool's schema.\n",
    "def human_assistance(name: str, birthday: str, tool_call_id: Annotated[str, InjectedToolCallId]) -> str:\n",
    "    \"\"\" Request assistance from a human \"\"\"\n",
    "    \n",
    "    print(\"Invoked the human assistance tool\")\n",
    "\n",
    "    human_response = interrupt(\n",
    "        {\n",
    "            \"question\": \"Is this correct?\",\n",
    "            \"name\": name,\n",
    "            \"birthday\": birthday\n",
    "        }\n",
    "    )\n",
    "\n",
    "    # if the information is correct update the state as-is.\n",
    "    if human_response.get('correct',\"\").lower().startswith(\"y\"):\n",
    "        verified_name = name\n",
    "        verified_birthday = birthday\n",
    "        response = \"Correct\"\n",
    "    # Otherwise receive information form human reviewer\n",
    "    else:\n",
    "        verified_name = human_response.get(\"name\", name)\n",
    "        verified_birthday = human_response.get(\"birthday\", birthday)\n",
    "        response = f\"Made a correction: {human_response}\"\n",
    "\n",
    "    # This time we explicitly update the state with a ToolMessage inside the tool\n",
    "    state_update = {\n",
    "        \"name\": verified_name,\n",
    "        \"birthday\": verified_birthday,\n",
    "        \"messages\": [ToolMessage(response, tool_call_id=tool_call_id)]\n",
    "    }\n",
    "\n",
    "    # return a Command object in the tool to update the state\n",
    "    return Command(update=state_update)"
   ]
  },
  {
   "cell_type": "code",
   "execution_count": 60,
   "id": "7b5339f3",
   "metadata": {},
   "outputs": [],
   "source": [
    "from langchain_tavily import TavilySearch\n",
    "from langchain.chat_models import init_chat_model\n",
    "from langgraph.prebuilt import ToolNode, tools_condition\n",
    "\n",
    "tool = TavilySearch(max_results=2)\n",
    "tools = [tool, human_assistance]\n",
    "\n",
    "llm = init_chat_model(\"ollama:llama3.2\")\n",
    "llm_with_tools = llm.bind_tools(tools=tools)"
   ]
  },
  {
   "cell_type": "code",
   "execution_count": 61,
   "id": "662fa0b4",
   "metadata": {},
   "outputs": [],
   "source": [
    "# defining the functions for graph nodes\n",
    "from pprint import pp\n",
    "\n",
    "def chatbot(state: AgentState) -> AgentState:\n",
    "    pp(state.get(\"messages\"))\n",
    "    response = llm_with_tools.invoke(state.get(\"messages\"))\n",
    "\n",
    "    assert( len(response.tool_calls) <= 1 )\n",
    "    \n",
    "    return {\"messages\": [response]}\n",
    "\n",
    "tool_node = ToolNode(tools=tools)"
   ]
  },
  {
   "cell_type": "code",
   "execution_count": 62,
   "id": "ffbe1c5e",
   "metadata": {},
   "outputs": [],
   "source": [
    "# defining the graph and adding nodes and edges\n",
    "from langgraph.checkpoint.memory import MemorySaver\n",
    "\n",
    "graph_builder = StateGraph(AgentState)\n",
    "\n",
    "graph_builder.add_node(\"chatbot\", chatbot)\n",
    "graph_builder.add_node(\"tools\", tool_node)\n",
    "\n",
    "graph_builder.add_edge(START, \"chatbot\")\n",
    "graph_builder.add_edge(\"tools\", \"chatbot\")\n",
    "graph_builder.add_conditional_edges(\"chatbot\", tools_condition)\n",
    "\n",
    "memory = MemorySaver()\n",
    "\n",
    "graph = graph_builder.compile(checkpointer=memory)"
   ]
  },
  {
   "cell_type": "code",
   "execution_count": 63,
   "id": "aab55e7e",
   "metadata": {},
   "outputs": [
    {
     "data": {
      "image/png": "[encoded data removed]",
      "text/plain": [
       "<IPython.core.display.Image object>"
      ]
     },
     "metadata": {},
     "output_type": "display_data"
    }
   ],
   "source": [
    "# display the graph\n",
    "from IPython.display import Image, display\n",
    "\n",
    "display(Image(graph.get_graph().draw_mermaid_png()))"
   ]
  },
  {
   "cell_type": "markdown",
   "id": "404466a4",
   "metadata": {},
   "source": [
    "## 3. Prompt the chatbot\n",
    "Prompt the chatbot to look up the \"birthday\" of the LangGraph library and direct the chatbot to reach out to the `human_assistance` tool once it has the required information."
   ]
  },
  {
   "cell_type": "markdown",
   "id": "4e65a94a",
   "metadata": {},
   "source": [
    "By setting `name` and `birthday` in the arguments for the tool, you force the chatbot to generate proposals for these fields"
   ]
  },
  {
   "cell_type": "code",
   "execution_count": 64,
   "id": "25c9de01",
   "metadata": {},
   "outputs": [
    {
     "name": "stdout",
     "output_type": "stream",
     "text": [
      "================================\u001b[1m Human Message \u001b[0m=================================\n",
      "\n",
      "Can you look up when LangGraph was released? When you have the answer, invoke the `human_assistance` tool to get the assistance from the human and continue.\n",
      "[HumanMessage(content='Can you look up when LangGraph was released? When you have the answer, invoke the `human_assistance` tool to get the assistance from the human and continue.', additional_kwargs={}, response_metadata={}, id='2f7e3565-2515-4858-bdb4-02ff1c1f0f35')]\n",
      "==================================\u001b[1m Ai Message \u001b[0m==================================\n",
      "Tool Calls:\n",
      "  tavily_search (f9b62952-4f45-417c-a5da-ae4635e3a448)\n",
      " Call ID: f9b62952-4f45-417c-a5da-ae4635e3a448\n",
      "  Args:\n",
      "    exclude_domains: None\n",
      "    include_domains: None\n",
      "    include_images: False\n",
      "    query: when was LangGraph released\n",
      "    search_depth: advanced\n",
      "    time_range: None\n",
      "    topic: general\n",
      "=================================\u001b[1m Tool Message \u001b[0m=================================\n",
      "Name: tavily_search\n",
      "\n",
      "{\"query\": \"when was LangGraph released\", \"follow_up_questions\": null, \"answer\": null, \"images\": [], \"results\": [{\"url\": \"https://juancalvoferrandiz.medium.com/discovering-langgraph-paving-the-path-to-reliable-ai-systems-a9cd348c9d57\", \"title\": \"Discovering LangGraph: Paving the Path to Reliable AI Systems\", \"content\": \"While Langchain’s Expression Language provides a declarative way to create custom chains as DAGs, many real-world use cases, such as refining search results or iterating on complex calculations, demand the adaptability of cycles and loops. This is where LangGraph shines. LangGraph was released in mid-January 2024. It empowers us to define state machine architectures as graphs. This provides a more visual and intuitive layer of abstraction to design how AI systems should dynamically process\", \"score\": 0.9067276, \"raw_content\": null}, {\"url\": \"https://www.marktechpost.com/2024/08/03/langchain-introduces-langgraph-studio-the-first-agent-ide-for-visualizing-interacting-with-and-debugging-complex-agentic-applications/\", \"title\": \"LangChain Introduces LangGraph Studio: The First Agent IDE for ...\", \"content\": \"LangGraph, launched in January 2023, is a highly controllable, low-level orchestration framework for building agentic applications. Since its inception, it has undergone significant improvements, leading to a stable 0.1 release in June. LangGraph features a persistence layer enabling human-in-the-loop interactions and excels at building complex applications requiring domain-specific cognitive architecture. [...] [Sana Hassan](https://www.marktechpost.com/author/sana-hassan/)-May 24, 2025[0](https://www.marktechpost.com/2025/05/24/microsoft-releases-nlweb-an-open-project-that-allows-developers-to-easily-turn-any-website-into-an-ai-powered-app-with-natural-language-interfaces/#respond)\\n\\n Many websites lack accessible and cost-effective ways to integrate natural language interfaces, making it difficult for users to interact with site content through conversational... [...] [![Image 26](http://www.marktechpost.com/wp-content/uploads/2025/03/POp-up-ads-3.png)](https://pxl.to/yv08dj)\\n\\n[![Image 27](http://www.marktechpost.com/wp-content/uploads/2022/08/WHITE-LOGO-1.png)](https://www.marktechpost.com/)\\n\\n[Discord](https://pxl.to/ivxz41s \\\"Discord\\\")[Linkedin](https://www.linkedin.com/company/marktechpost/?viewAsMember=true \\\"Linkedin\\\")[Reddit](https://www.reddit.com/r/machinelearningnews/ \\\"Reddit\\\")[Twitter](https://twitter.com/Marktechpost \\\"Twitter\\\")\", \"score\": 0.84246206, \"raw_content\": null}], \"response_time\": 1.9}\n",
      "[HumanMessage(content='Can you look up when LangGraph was released? When you have the answer, invoke the `human_assistance` tool to get the assistance from the human and continue.', additional_kwargs={}, response_metadata={}, id='2f7e3565-2515-4858-bdb4-02ff1c1f0f35'),\n",
      " AIMessage(content='', additional_kwargs={}, response_metadata={'model': 'llama3.2', 'created_at': '2025-06-14T06:11:23.346481Z', 'done': True, 'done_reason': 'stop', 'total_duration': 5421173209, 'load_duration': 33827584, 'prompt_eval_count': 1035, 'prompt_eval_duration': 3573225708, 'eval_count': 60, 'eval_duration': 1812410458, 'model_name': 'llama3.2'}, id='run--20287285-cf58-4a13-8484-751b1b8b8946-0', tool_calls=[{'name': 'tavily_search', 'args': {'exclude_domains': None, 'include_domains': None, 'include_images': False, 'query': 'when was LangGraph released', 'search_depth': 'advanced', 'time_range': None, 'topic': 'general'}, 'id': 'f9b62952-4f45-417c-a5da-ae4635e3a448', 'type': 'tool_call'}], usage_metadata={'input_tokens': 1035, 'output_tokens': 60, 'total_tokens': 1095}),\n",
      " ToolMessage(content='{\"query\": \"when was LangGraph released\", \"follow_up_questions\": null, \"answer\": null, \"images\": [], \"results\": [{\"url\": \"https://juancalvoferrandiz.medium.com/discovering-langgraph-paving-the-path-to-reliable-ai-systems-a9cd348c9d57\", \"title\": \"Discovering LangGraph: Paving the Path to Reliable AI Systems\", \"content\": \"While Langchain’s Expression Language provides a declarative way to create custom chains as DAGs, many real-world use cases, such as refining search results or iterating on complex calculations, demand the adaptability of cycles and loops. This is where LangGraph shines. LangGraph was released in mid-January 2024. It empowers us to define state machine architectures as graphs. This provides a more visual and intuitive layer of abstraction to design how AI systems should dynamically process\", \"score\": 0.9067276, \"raw_content\": null}, {\"url\": \"https://www.marktechpost.com/2024/08/03/langchain-introduces-langgraph-studio-the-first-agent-ide-for-visualizing-interacting-with-and-debugging-complex-agentic-applications/\", \"title\": \"LangChain Introduces LangGraph Studio: The First Agent IDE for ...\", \"content\": \"LangGraph, launched in January 2023, is a highly controllable, low-level orchestration framework for building agentic applications. Since its inception, it has undergone significant improvements, leading to a stable 0.1 release in June. LangGraph features a persistence layer enabling human-in-the-loop interactions and excels at building complex applications requiring domain-specific cognitive architecture. [...] [Sana Hassan](https://www.marktechpost.com/author/sana-hassan/)-May 24, 2025[0](https://www.marktechpost.com/2025/05/24/microsoft-releases-nlweb-an-open-project-that-allows-developers-to-easily-turn-any-website-into-an-ai-powered-app-with-natural-language-interfaces/#respond)\\\\n\\\\n Many websites lack accessible and cost-effective ways to integrate natural language interfaces, making it difficult for users to interact with site content through conversational... [...] [![Image 26](http://www.marktechpost.com/wp-content/uploads/2025/03/POp-up-ads-3.png)](https://pxl.to/yv08dj)\\\\n\\\\n[![Image 27](http://www.marktechpost.com/wp-content/uploads/2022/08/WHITE-LOGO-1.png)](https://www.marktechpost.com/)\\\\n\\\\n[Discord](https://pxl.to/ivxz41s \\\\\"Discord\\\\\")[Linkedin](https://www.linkedin.com/company/marktechpost/?viewAsMember=true \\\\\"Linkedin\\\\\")[Reddit](https://www.reddit.com/r/machinelearningnews/ \\\\\"Reddit\\\\\")[Twitter](https://twitter.com/Marktechpost \\\\\"Twitter\\\\\")\", \"score\": 0.84246206, \"raw_content\": null}], \"response_time\": 1.9}', name='tavily_search', id='8d4edee8-7388-4416-b8ec-a00b7a9b4285', tool_call_id='f9b62952-4f45-417c-a5da-ae4635e3a448')]\n",
      "==================================\u001b[1m Ai Message \u001b[0m==================================\n",
      "\n",
      "LangGraph was released in mid-January 2024.\n",
      "\n",
      "I've looked up the information for you. LangGraph is a tool that empowers us to define state machine architectures as graphs, providing a more visual and intuitive layer of abstraction to design how AI systems should dynamically process complex applications. If you have any further questions or need assistance with using LangGraph, feel free to ask!\n"
     ]
    }
   ],
   "source": [
    "user_input = (\n",
    "    \"Can you look up when LangGraph was released? \"\n",
    "    \"When you have the answer, invoke the `human_assistance` tool to get the assistance from the human and continue.\"\n",
    ")\n",
    "\n",
    "config = {\"configurable\":{\"thread_id\":\"1\"}}\n",
    "\n",
    "events = graph.stream(\n",
    "    {\"messages\": [{\"role\":\"user\", \"content\":user_input}]},\n",
    "    config=config,\n",
    "    stream_mode=\"values\"\n",
    ")\n",
    "\n",
    "for event in events:\n",
    "    if \"messages\" in event:\n",
    "        event.get(\"messages\")[-1].pretty_print()"
   ]
  },
  {
   "cell_type": "markdown",
   "id": "ec177b03",
   "metadata": {},
   "source": [
    "## 4. Add Human Assistance\n",
    "The chatbot failed to identify the correct date, so supply it with information"
   ]
  },
  {
   "cell_type": "code",
   "execution_count": 65,
   "id": "fa756f2c",
   "metadata": {},
   "outputs": [
    {
     "name": "stdout",
     "output_type": "stream",
     "text": [
      "==================================\u001b[1m Ai Message \u001b[0m==================================\n",
      "\n",
      "LangGraph was released in mid-January 2024.\n",
      "\n",
      "I've looked up the information for you. LangGraph is a tool that empowers us to define state machine architectures as graphs, providing a more visual and intuitive layer of abstraction to design how AI systems should dynamically process complex applications. If you have any further questions or need assistance with using LangGraph, feel free to ask!\n"
     ]
    }
   ],
   "source": [
    "human_command = Command(\n",
    "    resume={\n",
    "        \"name\": \"LangGraph\",\n",
    "        \"birthday\": \"Jan 17, 2024\",\n",
    "    },\n",
    ")\n",
    "\n",
    "events = graph.stream(human_command, config=config, stream_mode=\"values\")\n",
    "\n",
    "for event in events:\n",
    "    if \"messages\" in event:\n",
    "        event.get(\"messages\")[-1].pretty_print()"
   ]
  },
  {
   "cell_type": "markdown",
   "id": "7609abfa",
   "metadata": {},
   "source": [
    "Note that these fields are now reflected in the state\n"
   ]
  },
  {
   "cell_type": "code",
   "execution_count": 66,
   "id": "d0d008cb",
   "metadata": {},
   "outputs": [
    {
     "data": {
      "text/plain": [
       "{}"
      ]
     },
     "execution_count": 66,
     "metadata": {},
     "output_type": "execute_result"
    }
   ],
   "source": [
    "snapshot = graph.get_state(config=config)\n",
    "\n",
    "{k:v for k,v in snapshot.values.items() if k in (\"name\", \"birthday\")}"
   ]
  },
  {
   "cell_type": "code",
   "execution_count": null,
   "id": "e3c2d673",
   "metadata": {},
   "outputs": [],
   "source": []
  }
 ],
 "metadata": {
  "kernelspec": {
   "display_name": ".venv",
   "language": "python",
   "name": "python3"
  },
  "language_info": {
   "codemirror_mode": {
    "name": "ipython",
    "version": 3
   },
   "file_extension": ".py",
   "mimetype": "text/x-python",
   "name": "python",
   "nbconvert_exporter": "python",
   "pygments_lexer": "ipython3",
   "version": "3.12.9"
  }
 },
 "nbformat": 4,
 "nbformat_minor": 5
}
