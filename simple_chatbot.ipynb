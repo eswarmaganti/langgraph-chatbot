{
 "cells": [
  {
   "cell_type": "code",
   "execution_count": null,
   "id": "d20a0d7a",
   "metadata": {},
   "outputs": [
    {
     "name": "stderr",
     "output_type": "stream",
     "text": [
      "4097.73s - pydevd: Sending message related to process being replaced timed-out after 5 seconds\n"
     ]
    },
    {
     "name": "stdout",
     "output_type": "stream",
     "text": [
      "Requirement already satisfied: langchain in ./.venv/lib/python3.12/site-packages (0.3.25)\n",
      "Requirement already satisfied: langgraph in ./.venv/lib/python3.12/site-packages (0.4.8)\n",
      "Requirement already satisfied: langsmith in ./.venv/lib/python3.12/site-packages (0.3.45)\n",
      "Requirement already satisfied: IPython in ./.venv/lib/python3.12/site-packages (9.3.0)\n",
      "Requirement already satisfied: langchain-core<1.0.0,>=0.3.58 in ./.venv/lib/python3.12/site-packages (from langchain) (0.3.65)\n",
      "Requirement already satisfied: langchain-text-splitters<1.0.0,>=0.3.8 in ./.venv/lib/python3.12/site-packages (from langchain) (0.3.8)\n",
      "Requirement already satisfied: pydantic<3.0.0,>=2.7.4 in ./.venv/lib/python3.12/site-packages (from langchain) (2.11.5)\n",
      "Requirement already satisfied: SQLAlchemy<3,>=1.4 in ./.venv/lib/python3.12/site-packages (from langchain) (2.0.41)\n",
      "Requirement already satisfied: requests<3,>=2 in ./.venv/lib/python3.12/site-packages (from langchain) (2.32.4)\n",
      "Requirement already satisfied: PyYAML>=5.3 in ./.venv/lib/python3.12/site-packages (from langchain) (6.0.2)\n",
      "Requirement already satisfied: httpx<1,>=0.23.0 in ./.venv/lib/python3.12/site-packages (from langsmith) (0.28.1)\n",
      "Requirement already satisfied: orjson<4.0.0,>=3.9.14 in ./.venv/lib/python3.12/site-packages (from langsmith) (3.10.18)\n",
      "Requirement already satisfied: packaging>=23.2 in ./.venv/lib/python3.12/site-packages (from langsmith) (24.2)\n",
      "Requirement already satisfied: requests-toolbelt<2.0.0,>=1.0.0 in ./.venv/lib/python3.12/site-packages (from langsmith) (1.0.0)\n",
      "Requirement already satisfied: zstandard<0.24.0,>=0.23.0 in ./.venv/lib/python3.12/site-packages (from langsmith) (0.23.0)\n",
      "Requirement already satisfied: anyio in ./.venv/lib/python3.12/site-packages (from httpx<1,>=0.23.0->langsmith) (4.9.0)\n",
      "Requirement already satisfied: certifi in ./.venv/lib/python3.12/site-packages (from httpx<1,>=0.23.0->langsmith) (2025.4.26)\n",
      "Requirement already satisfied: httpcore==1.* in ./.venv/lib/python3.12/site-packages (from httpx<1,>=0.23.0->langsmith) (1.0.9)\n",
      "Requirement already satisfied: idna in ./.venv/lib/python3.12/site-packages (from httpx<1,>=0.23.0->langsmith) (3.10)\n",
      "Requirement already satisfied: h11>=0.16 in ./.venv/lib/python3.12/site-packages (from httpcore==1.*->httpx<1,>=0.23.0->langsmith) (0.16.0)\n",
      "Requirement already satisfied: tenacity!=8.4.0,<10.0.0,>=8.1.0 in ./.venv/lib/python3.12/site-packages (from langchain-core<1.0.0,>=0.3.58->langchain) (9.1.2)\n",
      "Requirement already satisfied: jsonpatch<2.0,>=1.33 in ./.venv/lib/python3.12/site-packages (from langchain-core<1.0.0,>=0.3.58->langchain) (1.33)\n",
      "Requirement already satisfied: typing-extensions>=4.7 in ./.venv/lib/python3.12/site-packages (from langchain-core<1.0.0,>=0.3.58->langchain) (4.14.0)\n",
      "Requirement already satisfied: jsonpointer>=1.9 in ./.venv/lib/python3.12/site-packages (from jsonpatch<2.0,>=1.33->langchain-core<1.0.0,>=0.3.58->langchain) (3.0.0)\n",
      "Requirement already satisfied: annotated-types>=0.6.0 in ./.venv/lib/python3.12/site-packages (from pydantic<3.0.0,>=2.7.4->langchain) (0.7.0)\n",
      "Requirement already satisfied: pydantic-core==2.33.2 in ./.venv/lib/python3.12/site-packages (from pydantic<3.0.0,>=2.7.4->langchain) (2.33.2)\n",
      "Requirement already satisfied: typing-inspection>=0.4.0 in ./.venv/lib/python3.12/site-packages (from pydantic<3.0.0,>=2.7.4->langchain) (0.4.1)\n",
      "Requirement already satisfied: charset_normalizer<4,>=2 in ./.venv/lib/python3.12/site-packages (from requests<3,>=2->langchain) (3.4.2)\n",
      "Requirement already satisfied: urllib3<3,>=1.21.1 in ./.venv/lib/python3.12/site-packages (from requests<3,>=2->langchain) (2.4.0)\n",
      "Requirement already satisfied: langgraph-checkpoint>=2.0.26 in ./.venv/lib/python3.12/site-packages (from langgraph) (2.0.26)\n",
      "Requirement already satisfied: langgraph-prebuilt>=0.2.0 in ./.venv/lib/python3.12/site-packages (from langgraph) (0.2.2)\n",
      "Requirement already satisfied: langgraph-sdk>=0.1.42 in ./.venv/lib/python3.12/site-packages (from langgraph) (0.1.70)\n",
      "Requirement already satisfied: xxhash>=3.5.0 in ./.venv/lib/python3.12/site-packages (from langgraph) (3.5.0)\n",
      "Requirement already satisfied: decorator in ./.venv/lib/python3.12/site-packages (from IPython) (5.2.1)\n",
      "Requirement already satisfied: ipython-pygments-lexers in ./.venv/lib/python3.12/site-packages (from IPython) (1.1.1)\n",
      "Requirement already satisfied: jedi>=0.16 in ./.venv/lib/python3.12/site-packages (from IPython) (0.19.2)\n",
      "Requirement already satisfied: matplotlib-inline in ./.venv/lib/python3.12/site-packages (from IPython) (0.1.7)\n",
      "Requirement already satisfied: pexpect>4.3 in ./.venv/lib/python3.12/site-packages (from IPython) (4.9.0)\n",
      "Requirement already satisfied: prompt_toolkit<3.1.0,>=3.0.41 in ./.venv/lib/python3.12/site-packages (from IPython) (3.0.51)\n",
      "Requirement already satisfied: pygments>=2.4.0 in ./.venv/lib/python3.12/site-packages (from IPython) (2.19.1)\n",
      "Requirement already satisfied: stack_data in ./.venv/lib/python3.12/site-packages (from IPython) (0.6.3)\n",
      "Requirement already satisfied: traitlets>=5.13.0 in ./.venv/lib/python3.12/site-packages (from IPython) (5.14.3)\n",
      "Requirement already satisfied: wcwidth in ./.venv/lib/python3.12/site-packages (from prompt_toolkit<3.1.0,>=3.0.41->IPython) (0.2.13)\n",
      "Requirement already satisfied: langchain-ollama in ./.venv/lib/python3.12/site-packages (from langchain[ollama]) (0.3.3)\n",
      "Requirement already satisfied: parso<0.9.0,>=0.8.4 in ./.venv/lib/python3.12/site-packages (from jedi>=0.16->IPython) (0.8.4)\n",
      "Requirement already satisfied: ormsgpack<2.0.0,>=1.8.0 in ./.venv/lib/python3.12/site-packages (from langgraph-checkpoint>=2.0.26->langgraph) (1.10.0)\n",
      "Requirement already satisfied: ptyprocess>=0.5 in ./.venv/lib/python3.12/site-packages (from pexpect>4.3->IPython) (0.7.0)\n",
      "Requirement already satisfied: sniffio>=1.1 in ./.venv/lib/python3.12/site-packages (from anyio->httpx<1,>=0.23.0->langsmith) (1.3.1)\n",
      "Requirement already satisfied: ollama<1.0.0,>=0.4.8 in ./.venv/lib/python3.12/site-packages (from langchain-ollama->langchain[ollama]) (0.5.1)\n",
      "Requirement already satisfied: executing>=1.2.0 in ./.venv/lib/python3.12/site-packages (from stack_data->IPython) (2.2.0)\n",
      "Requirement already satisfied: asttokens>=2.1.0 in ./.venv/lib/python3.12/site-packages (from stack_data->IPython) (3.0.0)\n",
      "Requirement already satisfied: pure-eval in ./.venv/lib/python3.12/site-packages (from stack_data->IPython) (0.2.3)\n",
      "Note: you may need to restart the kernel to use updated packages.\n"
     ]
    }
   ],
   "source": [
    "!pip install langchain langgraph langsmith IPython \"langchain[ollama]\""
   ]
  },
  {
   "cell_type": "code",
   "execution_count": 28,
   "id": "7ec1d745",
   "metadata": {},
   "outputs": [],
   "source": [
    "# create a StateGraph\n",
    "\n",
    "from typing import Annotated, TypedDict\n",
    "from langgraph.graph import StateGraph, START\n",
    "from langgraph.graph.message import add_messages\n",
    "\n",
    "\n",
    "class AgentState(TypedDict):\n",
    "    # Messages have the type `list`. The add_messages function in the annotation defines how this state key should be updated\n",
    "    # In this case, It appends messages to the lust, rather than overwriting them\n",
    "    messages: Annotated[list, add_messages]\n",
    "\n",
    "graph_builder = StateGraph(AgentState)\n"
   ]
  },
  {
   "cell_type": "code",
   "execution_count": 29,
   "id": "1df6190d",
   "metadata": {},
   "outputs": [],
   "source": [
    "# create a node `chatbot` \n",
    "import os\n",
    "\n",
    "from langchain.chat_models import init_chat_model\n",
    "\n",
    "llm = init_chat_model(\"ollama:llama3.2\")\n",
    "\n",
    "\n",
    "# the chatbot node\n",
    "def chatbot(state: AgentState):\n",
    "    # making a llm call\n",
    "    response = llm.invoke(state['messages'])\n",
    "\n",
    "    # returning the updated state\n",
    "    return {\"messages\": [response]}\n",
    "\n",
    "\n",
    "graph_builder.add_node(\"chatbot\", chatbot)\n",
    "# add the graph entry point\n",
    "graph_builder.set_entry_point('chatbot')\n",
    "\n",
    "# compiling the graph\n",
    "graph = graph_builder.compile()\n"
   ]
  },
  {
   "cell_type": "code",
   "execution_count": 30,
   "id": "ce9efa1c",
   "metadata": {},
   "outputs": [
    {
     "data": {
      "image/png": "[encoded data removed]",
      "text/plain": [
       "<IPython.core.display.Image object>"
      ]
     },
     "metadata": {},
     "output_type": "display_data"
    }
   ],
   "source": [
    "# visualize the graph\n",
    "from IPython.display import Image, display\n",
    "\n",
    "try:\n",
    "    display(Image(graph.get_graph().draw_mermaid_png()))\n",
    "except Exception as e:\n",
    "    print(\"Exception occurred while displaying the graph\")"
   ]
  },
  {
   "cell_type": "code",
   "execution_count": 31,
   "id": "eeccaf61",
   "metadata": {},
   "outputs": [
    {
     "name": "stdout",
     "output_type": "stream",
     "text": [
      "\n",
      "User:  what are the specifications of Triumph Street Triple R motorcycle? \n",
      "\n",
      "\n",
      "\n",
      "Assistent:  The Triumph Street Triple R is a high-performance version of the popular Street Triple motorcycle. Here are its specifications:\n",
      "\n",
      "**Engine**\n",
      "\n",
      "* Type: 1137cc, liquid-cooled, DOHC inline-3 cylinder\n",
      "* Power: 180 horsepower (134 kW) at 14,500 rpm\n",
      "* Torque: 83 lb-ft (112 Nm) at 10,000 rpm\n",
      "\n",
      "**Transmission**\n",
      "\n",
      "* Type: 6-speed constant mesh gearbox with a wet clutch\n",
      "* Gear ratios: 1.63:1, 2.24:1, 3.00:1, 3.56:1, 4.50:1, 5.08:1\n",
      "\n",
      "**Brakes**\n",
      "\n",
      "* Front brake: 320mm Brembo monoblock discs with 6-piston calipers\n",
      "* Rear brake: 240mm Brembo single disc with 2-piston caliper\n",
      "\n",
      "**Suspension**\n",
      "\n",
      "* Front suspension: Öhlins Road & Track forks with 41mm stanchions, 45mm piston, and 35mm fork tube\n",
      "* Rear suspension: Öhlins TTX 36 shock absorber with a spring preload adjuster and 150mm stroke\n",
      "\n",
      "**Wheels and Tyres**\n",
      "\n",
      "* Front wheel: 17 x 3.5-inch aluminum alloy rim with Pirelli Angel ST III tires\n",
      "* Rear wheel: 17 x 4.25-inch aluminum alloy rim with Pirelli Angel ST III tires\n",
      "\n",
      "**Electronics**\n",
      "\n",
      "* ECU: Triumph's Ride Command engine management system with traction control, ABS, and cornering ABS\n",
      "* Fuel injection: 52mm fuel injectors with throttle-by-wire (TBW)\n",
      "* Cruise control: optional\n",
      "\n",
      "**Other Features**\n",
      "\n",
      "* Seat height: 810 mm (31.9 in)\n",
      "* Wheelbase: 1424 mm (56.0 in)\n",
      "* Dry weight: approximately 200 kg (441 lbs)\n",
      "* Wet weight: approximately 240 kg (529 lbs)\n",
      "\n",
      "Please note that specifications may vary depending on the country, region, and market. These specs are based on the global specification sheet for the Triumph Street Triple R motorcycle. \n",
      "\n",
      "\n",
      "\n",
      "User:  compare the specs of Kawasaki ninja Z900 and Triumph street triple R \n",
      "\n",
      "\n",
      "\n",
      "Assistent:  Here's a comparison of the specifications of the Kawasaki Ninja ZX-10R (not just the Z900, but I'll assume you're referring to the higher-spec ZX-10R model) and the Triumph Street Triple R:\n",
      "\n",
      "**Kawasaki Ninja ZX-10R**\n",
      "\n",
      "* Engine:\n",
      " + Type: 998cc, inline-four\n",
      " + Bore x Stroke: 81mm x 41.5mm\n",
      " + Compression Ratio: 14.5:1\n",
      " + Power Output: 207 horsepower (153 kW) at 14,800 rpm\n",
      " + Torque Output: 82 lb-ft (111 Nm) at 10,500 rpm\n",
      "* Transmission:\n",
      " + Type: 6-speed constant-mesh transmission with overdrive\n",
      "* Suspension:\n",
      " + Front: Inverted, 43mm inverted fork\n",
      " + Rear: Monoshock unit with spring preload and hydraulic compression adjustment\n",
      "* Brakes:\n",
      " + Front: Dual Brembo brake calipers with 320mm discs\n",
      " + Rear: Single Brembo brake caliper with 240mm disc\n",
      "* Wheels and Tires:\n",
      " + Rims: Aluminum, 17x3.5-inch (front) and 17x4-inch (rear)\n",
      " + Tyres: Michelin Road-4, 120/70R17 (front), 190/55R17 (rear)\n",
      "\n",
      "**Triumph Street Triple R**\n",
      "\n",
      "* Engine:\n",
      " + Type: 999cc, inline-three\n",
      " + Bore x Stroke: 80mm x 51.1mm\n",
      " + Compression Ratio: 11.6:1\n",
      " + Power Output: 121 horsepower (90 kW) at 13,000 rpm\n",
      " + Torque Output: 77 lb-ft (105 Nm) at 9,500 rpm\n",
      "* Transmission:\n",
      " + Type: 6-speed constant-mesh transmission with overdrive and manual quick-shifter\n",
      "* Suspension:\n",
      " + Front: Inverted, 41mm inverted fork\n",
      " + Rear: Monoshock unit with spring preload adjustment\n",
      "* Brakes:\n",
      " + Front: Dual Brembo brake calipers with 320mm discs\n",
      " + Rear: Single Brembo brake caliper with 280mm disc\n",
      "* Wheels and Tires:\n",
      " + Rims: Aluminum, 17x3.5-inch (front) and 17x4-inch (rear)\n",
      " + Tyres: Pirelli Supercorsa V, 120/70R17 (front), 190/55R17 (rear)\n",
      "\n",
      "As you can see, the Kawasaki Ninja ZX-10R has a significantly more powerful engine than the Triumph Street Triple R, with an output that's over 80% higher. The ZX-10R also features a more advanced transmission and suspension setup, which are designed to handle the bike's high-performance capabilities.\n",
      "\n",
      "On the other hand, the Triumph Street Triple R is still a highly capable motorcycle in its own right, with a strong mid-range power band and excellent handling characteristics. However, it's clear that the ZX-10R is designed for track-focused performance rather than everyday riding.\n",
      "\n",
      "It's worth noting that there was also a Kawasaki Z900 model released from 2013 to 2016, which had similar specs to the Triumph Street Triple R. If you're interested in comparing those models specifically, I can try to find more information on them for you. \n",
      "\n",
      "\n",
      "Goodbye...!\n"
     ]
    }
   ],
   "source": [
    "# Run the chatbot\n",
    "\n",
    "# method to invoke the graph\n",
    "def stream_graph_updates(user_input: str):\n",
    "\n",
    "    initial_state = {\"messages\": [{\"role\": \"user\", \"content\": user_input}]}\n",
    "    print(\"\\nUser: \", user_input,'\\n\\n')\n",
    "    for event in graph.stream(initial_state):\n",
    "        for value in event.values():\n",
    "            print(\"\\nAssistent: \", value['messages'][-1].content,'\\n\\n')\n",
    "\n",
    "\n",
    "while True:\n",
    "    try:\n",
    "        user_input = input(\"User: \").strip()\n",
    "        if user_input.lower() in [\"quit\", \"q\", \"exit\"]:\n",
    "            print(\"Goodbye...!\")\n",
    "            break\n",
    "\n",
    "        stream_graph_updates(user_input=user_input)\n",
    "    except Exception as e:\n",
    "        # fallback if input() is not available\n",
    "\n",
    "        user_input = \"What do you know about LangGraph?\"\n",
    "        print(\"User: \", user_input)\n",
    "        stream_graph_updates(user_input=user_input)\n",
    "        break"
   ]
  },
  {
   "cell_type": "markdown",
   "id": "405afb91",
   "metadata": {},
   "source": [
    "Add Tools\n",
    "\n",
    "To handle the queries that your chatbot can't answer from memory, integrate a web search tool. The chatbot can use this tool to find relevant information and provide better responses.\n"
   ]
  },
  {
   "cell_type": "code",
   "execution_count": 38,
   "id": "55e1ef95",
   "metadata": {},
   "outputs": [
    {
     "name": "stderr",
     "output_type": "stream",
     "text": [
      "5008.45s - pydevd: Sending message related to process being replaced timed-out after 5 seconds\n"
     ]
    },
    {
     "name": "stdout",
     "output_type": "stream",
     "text": [
      "Requirement already satisfied: langchain-tavily in ./.venv/lib/python3.12/site-packages (0.2.1)\n",
      "Collecting dotenv\n",
      "  Downloading dotenv-0.9.9-py2.py3-none-any.whl.metadata (279 bytes)\n",
      "Requirement already satisfied: aiohttp<4.0.0,>=3.11.14 in ./.venv/lib/python3.12/site-packages (from langchain-tavily) (3.12.12)\n",
      "Requirement already satisfied: langchain<0.4.0,>=0.3.20 in ./.venv/lib/python3.12/site-packages (from langchain-tavily) (0.3.25)\n",
      "Requirement already satisfied: langchain-core<0.4.0,>=0.3.15 in ./.venv/lib/python3.12/site-packages (from langchain-tavily) (0.3.65)\n",
      "Requirement already satisfied: mypy<2.0.0,>=1.15.0 in ./.venv/lib/python3.12/site-packages (from langchain-tavily) (1.16.0)\n",
      "Requirement already satisfied: requests<3.0.0,>=2.32.3 in ./.venv/lib/python3.12/site-packages (from langchain-tavily) (2.32.4)\n",
      "Requirement already satisfied: aiohappyeyeballs>=2.5.0 in ./.venv/lib/python3.12/site-packages (from aiohttp<4.0.0,>=3.11.14->langchain-tavily) (2.6.1)\n",
      "Requirement already satisfied: aiosignal>=1.1.2 in ./.venv/lib/python3.12/site-packages (from aiohttp<4.0.0,>=3.11.14->langchain-tavily) (1.3.2)\n",
      "Requirement already satisfied: attrs>=17.3.0 in ./.venv/lib/python3.12/site-packages (from aiohttp<4.0.0,>=3.11.14->langchain-tavily) (25.3.0)\n",
      "Requirement already satisfied: frozenlist>=1.1.1 in ./.venv/lib/python3.12/site-packages (from aiohttp<4.0.0,>=3.11.14->langchain-tavily) (1.7.0)\n",
      "Requirement already satisfied: multidict<7.0,>=4.5 in ./.venv/lib/python3.12/site-packages (from aiohttp<4.0.0,>=3.11.14->langchain-tavily) (6.4.4)\n",
      "Requirement already satisfied: propcache>=0.2.0 in ./.venv/lib/python3.12/site-packages (from aiohttp<4.0.0,>=3.11.14->langchain-tavily) (0.3.2)\n",
      "Requirement already satisfied: yarl<2.0,>=1.17.0 in ./.venv/lib/python3.12/site-packages (from aiohttp<4.0.0,>=3.11.14->langchain-tavily) (1.20.1)\n",
      "Requirement already satisfied: langchain-text-splitters<1.0.0,>=0.3.8 in ./.venv/lib/python3.12/site-packages (from langchain<0.4.0,>=0.3.20->langchain-tavily) (0.3.8)\n",
      "Requirement already satisfied: langsmith<0.4,>=0.1.17 in ./.venv/lib/python3.12/site-packages (from langchain<0.4.0,>=0.3.20->langchain-tavily) (0.3.45)\n",
      "Requirement already satisfied: pydantic<3.0.0,>=2.7.4 in ./.venv/lib/python3.12/site-packages (from langchain<0.4.0,>=0.3.20->langchain-tavily) (2.11.5)\n",
      "Requirement already satisfied: SQLAlchemy<3,>=1.4 in ./.venv/lib/python3.12/site-packages (from langchain<0.4.0,>=0.3.20->langchain-tavily) (2.0.41)\n",
      "Requirement already satisfied: PyYAML>=5.3 in ./.venv/lib/python3.12/site-packages (from langchain<0.4.0,>=0.3.20->langchain-tavily) (6.0.2)\n",
      "Requirement already satisfied: tenacity!=8.4.0,<10.0.0,>=8.1.0 in ./.venv/lib/python3.12/site-packages (from langchain-core<0.4.0,>=0.3.15->langchain-tavily) (9.1.2)\n",
      "Requirement already satisfied: jsonpatch<2.0,>=1.33 in ./.venv/lib/python3.12/site-packages (from langchain-core<0.4.0,>=0.3.15->langchain-tavily) (1.33)\n",
      "Requirement already satisfied: packaging<25,>=23.2 in ./.venv/lib/python3.12/site-packages (from langchain-core<0.4.0,>=0.3.15->langchain-tavily) (24.2)\n",
      "Requirement already satisfied: typing-extensions>=4.7 in ./.venv/lib/python3.12/site-packages (from langchain-core<0.4.0,>=0.3.15->langchain-tavily) (4.14.0)\n",
      "Requirement already satisfied: jsonpointer>=1.9 in ./.venv/lib/python3.12/site-packages (from jsonpatch<2.0,>=1.33->langchain-core<0.4.0,>=0.3.15->langchain-tavily) (3.0.0)\n",
      "Requirement already satisfied: httpx<1,>=0.23.0 in ./.venv/lib/python3.12/site-packages (from langsmith<0.4,>=0.1.17->langchain<0.4.0,>=0.3.20->langchain-tavily) (0.28.1)\n",
      "Requirement already satisfied: orjson<4.0.0,>=3.9.14 in ./.venv/lib/python3.12/site-packages (from langsmith<0.4,>=0.1.17->langchain<0.4.0,>=0.3.20->langchain-tavily) (3.10.18)\n",
      "Requirement already satisfied: requests-toolbelt<2.0.0,>=1.0.0 in ./.venv/lib/python3.12/site-packages (from langsmith<0.4,>=0.1.17->langchain<0.4.0,>=0.3.20->langchain-tavily) (1.0.0)\n",
      "Requirement already satisfied: zstandard<0.24.0,>=0.23.0 in ./.venv/lib/python3.12/site-packages (from langsmith<0.4,>=0.1.17->langchain<0.4.0,>=0.3.20->langchain-tavily) (0.23.0)\n",
      "Requirement already satisfied: anyio in ./.venv/lib/python3.12/site-packages (from httpx<1,>=0.23.0->langsmith<0.4,>=0.1.17->langchain<0.4.0,>=0.3.20->langchain-tavily) (4.9.0)\n",
      "Requirement already satisfied: certifi in ./.venv/lib/python3.12/site-packages (from httpx<1,>=0.23.0->langsmith<0.4,>=0.1.17->langchain<0.4.0,>=0.3.20->langchain-tavily) (2025.4.26)\n",
      "Requirement already satisfied: httpcore==1.* in ./.venv/lib/python3.12/site-packages (from httpx<1,>=0.23.0->langsmith<0.4,>=0.1.17->langchain<0.4.0,>=0.3.20->langchain-tavily) (1.0.9)\n",
      "Requirement already satisfied: idna in ./.venv/lib/python3.12/site-packages (from httpx<1,>=0.23.0->langsmith<0.4,>=0.1.17->langchain<0.4.0,>=0.3.20->langchain-tavily) (3.10)\n",
      "Requirement already satisfied: h11>=0.16 in ./.venv/lib/python3.12/site-packages (from httpcore==1.*->httpx<1,>=0.23.0->langsmith<0.4,>=0.1.17->langchain<0.4.0,>=0.3.20->langchain-tavily) (0.16.0)\n",
      "Requirement already satisfied: mypy_extensions>=1.0.0 in ./.venv/lib/python3.12/site-packages (from mypy<2.0.0,>=1.15.0->langchain-tavily) (1.1.0)\n",
      "Requirement already satisfied: pathspec>=0.9.0 in ./.venv/lib/python3.12/site-packages (from mypy<2.0.0,>=1.15.0->langchain-tavily) (0.12.1)\n",
      "Requirement already satisfied: annotated-types>=0.6.0 in ./.venv/lib/python3.12/site-packages (from pydantic<3.0.0,>=2.7.4->langchain<0.4.0,>=0.3.20->langchain-tavily) (0.7.0)\n",
      "Requirement already satisfied: pydantic-core==2.33.2 in ./.venv/lib/python3.12/site-packages (from pydantic<3.0.0,>=2.7.4->langchain<0.4.0,>=0.3.20->langchain-tavily) (2.33.2)\n",
      "Requirement already satisfied: typing-inspection>=0.4.0 in ./.venv/lib/python3.12/site-packages (from pydantic<3.0.0,>=2.7.4->langchain<0.4.0,>=0.3.20->langchain-tavily) (0.4.1)\n",
      "Requirement already satisfied: charset_normalizer<4,>=2 in ./.venv/lib/python3.12/site-packages (from requests<3.0.0,>=2.32.3->langchain-tavily) (3.4.2)\n",
      "Requirement already satisfied: urllib3<3,>=1.21.1 in ./.venv/lib/python3.12/site-packages (from requests<3.0.0,>=2.32.3->langchain-tavily) (2.4.0)\n",
      "Collecting python-dotenv (from dotenv)\n",
      "  Downloading python_dotenv-1.1.0-py3-none-any.whl.metadata (24 kB)\n",
      "Requirement already satisfied: sniffio>=1.1 in ./.venv/lib/python3.12/site-packages (from anyio->httpx<1,>=0.23.0->langsmith<0.4,>=0.1.17->langchain<0.4.0,>=0.3.20->langchain-tavily) (1.3.1)\n",
      "Downloading dotenv-0.9.9-py2.py3-none-any.whl (1.9 kB)\n",
      "Downloading python_dotenv-1.1.0-py3-none-any.whl (20 kB)\n",
      "Installing collected packages: python-dotenv, dotenv\n",
      "\u001b[2K   \u001b[38;2;114;156;31m━━━━━━━━━━━━━━━━━━━━━━━━━━━━━━━━━━━━━━━━\u001b[0m \u001b[32m2/2\u001b[0m [dotenv]\n",
      "\u001b[1A\u001b[2KSuccessfully installed dotenv-0.9.9 python-dotenv-1.1.0\n"
     ]
    }
   ],
   "source": [
    "# Install the search engine\n",
    "!pip install langchain-tavily dotenv"
   ]
  },
  {
   "cell_type": "code",
   "execution_count": 39,
   "id": "157a0ba2",
   "metadata": {},
   "outputs": [
    {
     "data": {
      "text/plain": [
       "True"
      ]
     },
     "execution_count": 39,
     "metadata": {},
     "output_type": "execute_result"
    }
   ],
   "source": [
    "#  configure the environment\n",
    "from dotenv import load_dotenv\n",
    "load_dotenv()\n"
   ]
  },
  {
   "cell_type": "code",
   "execution_count": 40,
   "id": "bdbb59bf",
   "metadata": {},
   "outputs": [
    {
     "data": {
      "text/plain": [
       "{'query': 'What is a node in langgraph?',\n",
       " 'follow_up_questions': None,\n",
       " 'answer': None,\n",
       " 'images': [],\n",
       " 'results': [{'title': 'What is LangGraph? - IBM',\n",
       "   'url': 'https://www.ibm.com/think/topics/langgraph',\n",
       "   'content': 'LangGraph, created by LangChain, is an open source AI agent framework designed to build, deploy and manage complex generative AI agent workflows. At its core, LangGraph uses the power of graph-based architectures to model and manage the intricate relationships between various components of an AI agent workflow. LangGraph illuminates the processes within an AI workflow, allowing full transparency of the agent’s state. By combining these technologies with a set of APIs and tools, LangGraph provides users with a versatile platform for developing AI solutions and workflows including chatbots, state graphs and other agent-based systems. Nodes: In LangGraph, nodes represent individual components or agents within an AI workflow. LangGraph uses enhanced decision-making by modeling complex relationships between nodes, which means it uses AI agents to analyze their past actions and feedback.',\n",
       "   'score': 0.9049283,\n",
       "   'raw_content': None},\n",
       "  {'title': \"Introduction to LangGraph: A Beginner's Guide - Medium\",\n",
       "   'url': 'https://medium.com/@cplog/introduction-to-langgraph-a-beginners-guide-14f9be027141',\n",
       "   'content': 'Stateful Graph: LangGraph revolves around the concept of a stateful graph, where each node in the graph represents a step in your computation, and the graph maintains a state that is passed around and updated as the computation progresses. LangGraph supports conditional edges, allowing you to dynamically determine the next node to execute based on the current state of the graph. We define nodes for classifying the input, handling greetings, and handling search queries. def classify_input_node(state): LangGraph is a versatile tool for building complex, stateful applications with LLMs. By understanding its core concepts and working through simple examples, beginners can start to leverage its power for their projects. Remember to pay attention to state management, conditional edges, and ensuring there are no dead-end nodes in your graph.',\n",
       "   'score': 0.78552294,\n",
       "   'raw_content': None}],\n",
       " 'response_time': 1.88}"
      ]
     },
     "execution_count": 40,
     "metadata": {},
     "output_type": "execute_result"
    }
   ],
   "source": [
    "# define the tool\n",
    "from langchain_tavily import TavilySearch\n",
    "\n",
    "tool = TavilySearch(max_results = 2)\n",
    "tools = [tool]\n",
    "tool.invoke(\"What is a node in langgraph?\")"
   ]
  },
  {
   "cell_type": "code",
   "execution_count": null,
   "id": "b8dd77c8",
   "metadata": {},
   "outputs": [],
   "source": []
  }
 ],
 "metadata": {
  "kernelspec": {
   "display_name": ".venv",
   "language": "python",
   "name": "python3"
  },
  "language_info": {
   "codemirror_mode": {
    "name": "ipython",
    "version": 3
   },
   "file_extension": ".py",
   "mimetype": "text/x-python",
   "name": "python",
   "nbconvert_exporter": "python",
   "pygments_lexer": "ipython3",
   "version": "3.12.9"
  }
 },
 "nbformat": 4,
 "nbformat_minor": 5
}
