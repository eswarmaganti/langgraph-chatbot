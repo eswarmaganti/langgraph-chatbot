{
 "cells": [
  {
   "cell_type": "code",
   "execution_count": 71,
   "id": "6a1a508f",
   "metadata": {},
   "outputs": [
    {
     "name": "stdout",
     "output_type": "stream",
     "text": [
      "Requirement already satisfied: langchain-tavily in ./.venv/lib/python3.12/site-packages (0.2.1)\n",
      "Requirement already satisfied: dotenv in ./.venv/lib/python3.12/site-packages (0.9.9)\n",
      "Requirement already satisfied: langgraph in ./.venv/lib/python3.12/site-packages (0.4.8)\n",
      "Requirement already satisfied: langchain in ./.venv/lib/python3.12/site-packages (0.3.25)\n",
      "Requirement already satisfied: IPython in ./.venv/lib/python3.12/site-packages (9.3.0)\n",
      "Requirement already satisfied: aiohttp<4.0.0,>=3.11.14 in ./.venv/lib/python3.12/site-packages (from langchain-tavily) (3.12.12)\n",
      "Requirement already satisfied: langchain-core<0.4.0,>=0.3.15 in ./.venv/lib/python3.12/site-packages (from langchain-tavily) (0.3.65)\n",
      "Requirement already satisfied: mypy<2.0.0,>=1.15.0 in ./.venv/lib/python3.12/site-packages (from langchain-tavily) (1.16.0)\n",
      "Requirement already satisfied: requests<3.0.0,>=2.32.3 in ./.venv/lib/python3.12/site-packages (from langchain-tavily) (2.32.4)\n",
      "Requirement already satisfied: langchain-text-splitters<1.0.0,>=0.3.8 in ./.venv/lib/python3.12/site-packages (from langchain) (0.3.8)\n",
      "Requirement already satisfied: langsmith<0.4,>=0.1.17 in ./.venv/lib/python3.12/site-packages (from langchain) (0.3.45)\n",
      "Requirement already satisfied: pydantic<3.0.0,>=2.7.4 in ./.venv/lib/python3.12/site-packages (from langchain) (2.11.5)\n",
      "Requirement already satisfied: SQLAlchemy<3,>=1.4 in ./.venv/lib/python3.12/site-packages (from langchain) (2.0.41)\n",
      "Requirement already satisfied: PyYAML>=5.3 in ./.venv/lib/python3.12/site-packages (from langchain) (6.0.2)\n",
      "Requirement already satisfied: aiohappyeyeballs>=2.5.0 in ./.venv/lib/python3.12/site-packages (from aiohttp<4.0.0,>=3.11.14->langchain-tavily) (2.6.1)\n",
      "Requirement already satisfied: aiosignal>=1.1.2 in ./.venv/lib/python3.12/site-packages (from aiohttp<4.0.0,>=3.11.14->langchain-tavily) (1.3.2)\n",
      "Requirement already satisfied: attrs>=17.3.0 in ./.venv/lib/python3.12/site-packages (from aiohttp<4.0.0,>=3.11.14->langchain-tavily) (25.3.0)\n",
      "Requirement already satisfied: frozenlist>=1.1.1 in ./.venv/lib/python3.12/site-packages (from aiohttp<4.0.0,>=3.11.14->langchain-tavily) (1.7.0)\n",
      "Requirement already satisfied: multidict<7.0,>=4.5 in ./.venv/lib/python3.12/site-packages (from aiohttp<4.0.0,>=3.11.14->langchain-tavily) (6.4.4)\n",
      "Requirement already satisfied: propcache>=0.2.0 in ./.venv/lib/python3.12/site-packages (from aiohttp<4.0.0,>=3.11.14->langchain-tavily) (0.3.2)\n",
      "Requirement already satisfied: yarl<2.0,>=1.17.0 in ./.venv/lib/python3.12/site-packages (from aiohttp<4.0.0,>=3.11.14->langchain-tavily) (1.20.1)\n",
      "Requirement already satisfied: tenacity!=8.4.0,<10.0.0,>=8.1.0 in ./.venv/lib/python3.12/site-packages (from langchain-core<0.4.0,>=0.3.15->langchain-tavily) (9.1.2)\n",
      "Requirement already satisfied: jsonpatch<2.0,>=1.33 in ./.venv/lib/python3.12/site-packages (from langchain-core<0.4.0,>=0.3.15->langchain-tavily) (1.33)\n",
      "Requirement already satisfied: packaging<25,>=23.2 in ./.venv/lib/python3.12/site-packages (from langchain-core<0.4.0,>=0.3.15->langchain-tavily) (24.2)\n",
      "Requirement already satisfied: typing-extensions>=4.7 in ./.venv/lib/python3.12/site-packages (from langchain-core<0.4.0,>=0.3.15->langchain-tavily) (4.14.0)\n",
      "Requirement already satisfied: jsonpointer>=1.9 in ./.venv/lib/python3.12/site-packages (from jsonpatch<2.0,>=1.33->langchain-core<0.4.0,>=0.3.15->langchain-tavily) (3.0.0)\n",
      "Requirement already satisfied: httpx<1,>=0.23.0 in ./.venv/lib/python3.12/site-packages (from langsmith<0.4,>=0.1.17->langchain) (0.28.1)\n",
      "Requirement already satisfied: orjson<4.0.0,>=3.9.14 in ./.venv/lib/python3.12/site-packages (from langsmith<0.4,>=0.1.17->langchain) (3.10.18)\n",
      "Requirement already satisfied: requests-toolbelt<2.0.0,>=1.0.0 in ./.venv/lib/python3.12/site-packages (from langsmith<0.4,>=0.1.17->langchain) (1.0.0)\n",
      "Requirement already satisfied: zstandard<0.24.0,>=0.23.0 in ./.venv/lib/python3.12/site-packages (from langsmith<0.4,>=0.1.17->langchain) (0.23.0)\n",
      "Requirement already satisfied: anyio in ./.venv/lib/python3.12/site-packages (from httpx<1,>=0.23.0->langsmith<0.4,>=0.1.17->langchain) (4.9.0)\n",
      "Requirement already satisfied: certifi in ./.venv/lib/python3.12/site-packages (from httpx<1,>=0.23.0->langsmith<0.4,>=0.1.17->langchain) (2025.4.26)\n",
      "Requirement already satisfied: httpcore==1.* in ./.venv/lib/python3.12/site-packages (from httpx<1,>=0.23.0->langsmith<0.4,>=0.1.17->langchain) (1.0.9)\n",
      "Requirement already satisfied: idna in ./.venv/lib/python3.12/site-packages (from httpx<1,>=0.23.0->langsmith<0.4,>=0.1.17->langchain) (3.10)\n",
      "Requirement already satisfied: h11>=0.16 in ./.venv/lib/python3.12/site-packages (from httpcore==1.*->httpx<1,>=0.23.0->langsmith<0.4,>=0.1.17->langchain) (0.16.0)\n",
      "Requirement already satisfied: mypy_extensions>=1.0.0 in ./.venv/lib/python3.12/site-packages (from mypy<2.0.0,>=1.15.0->langchain-tavily) (1.1.0)\n",
      "Requirement already satisfied: pathspec>=0.9.0 in ./.venv/lib/python3.12/site-packages (from mypy<2.0.0,>=1.15.0->langchain-tavily) (0.12.1)\n",
      "Requirement already satisfied: annotated-types>=0.6.0 in ./.venv/lib/python3.12/site-packages (from pydantic<3.0.0,>=2.7.4->langchain) (0.7.0)\n",
      "Requirement already satisfied: pydantic-core==2.33.2 in ./.venv/lib/python3.12/site-packages (from pydantic<3.0.0,>=2.7.4->langchain) (2.33.2)\n",
      "Requirement already satisfied: typing-inspection>=0.4.0 in ./.venv/lib/python3.12/site-packages (from pydantic<3.0.0,>=2.7.4->langchain) (0.4.1)\n",
      "Requirement already satisfied: charset_normalizer<4,>=2 in ./.venv/lib/python3.12/site-packages (from requests<3.0.0,>=2.32.3->langchain-tavily) (3.4.2)\n",
      "Requirement already satisfied: urllib3<3,>=1.21.1 in ./.venv/lib/python3.12/site-packages (from requests<3.0.0,>=2.32.3->langchain-tavily) (2.4.0)\n",
      "Requirement already satisfied: python-dotenv in ./.venv/lib/python3.12/site-packages (from dotenv) (1.1.0)\n",
      "Requirement already satisfied: langgraph-checkpoint>=2.0.26 in ./.venv/lib/python3.12/site-packages (from langgraph) (2.0.26)\n",
      "Requirement already satisfied: langgraph-prebuilt>=0.2.0 in ./.venv/lib/python3.12/site-packages (from langgraph) (0.2.2)\n",
      "Requirement already satisfied: langgraph-sdk>=0.1.42 in ./.venv/lib/python3.12/site-packages (from langgraph) (0.1.70)\n",
      "Requirement already satisfied: xxhash>=3.5.0 in ./.venv/lib/python3.12/site-packages (from langgraph) (3.5.0)\n",
      "Requirement already satisfied: langchain-ollama in ./.venv/lib/python3.12/site-packages (from langchain[ollama]) (0.3.3)\n",
      "Requirement already satisfied: decorator in ./.venv/lib/python3.12/site-packages (from IPython) (5.2.1)\n",
      "Requirement already satisfied: ipython-pygments-lexers in ./.venv/lib/python3.12/site-packages (from IPython) (1.1.1)\n",
      "Requirement already satisfied: jedi>=0.16 in ./.venv/lib/python3.12/site-packages (from IPython) (0.19.2)\n",
      "Requirement already satisfied: matplotlib-inline in ./.venv/lib/python3.12/site-packages (from IPython) (0.1.7)\n",
      "Requirement already satisfied: pexpect>4.3 in ./.venv/lib/python3.12/site-packages (from IPython) (4.9.0)\n",
      "Requirement already satisfied: prompt_toolkit<3.1.0,>=3.0.41 in ./.venv/lib/python3.12/site-packages (from IPython) (3.0.51)\n",
      "Requirement already satisfied: pygments>=2.4.0 in ./.venv/lib/python3.12/site-packages (from IPython) (2.19.1)\n",
      "Requirement already satisfied: stack_data in ./.venv/lib/python3.12/site-packages (from IPython) (0.6.3)\n",
      "Requirement already satisfied: traitlets>=5.13.0 in ./.venv/lib/python3.12/site-packages (from IPython) (5.14.3)\n",
      "Requirement already satisfied: wcwidth in ./.venv/lib/python3.12/site-packages (from prompt_toolkit<3.1.0,>=3.0.41->IPython) (0.2.13)\n",
      "Requirement already satisfied: parso<0.9.0,>=0.8.4 in ./.venv/lib/python3.12/site-packages (from jedi>=0.16->IPython) (0.8.4)\n",
      "Requirement already satisfied: ormsgpack<2.0.0,>=1.8.0 in ./.venv/lib/python3.12/site-packages (from langgraph-checkpoint>=2.0.26->langgraph) (1.10.0)\n",
      "Requirement already satisfied: ptyprocess>=0.5 in ./.venv/lib/python3.12/site-packages (from pexpect>4.3->IPython) (0.7.0)\n",
      "Requirement already satisfied: sniffio>=1.1 in ./.venv/lib/python3.12/site-packages (from anyio->httpx<1,>=0.23.0->langsmith<0.4,>=0.1.17->langchain) (1.3.1)\n",
      "Requirement already satisfied: ollama<1.0.0,>=0.4.8 in ./.venv/lib/python3.12/site-packages (from langchain-ollama->langchain[ollama]) (0.5.1)\n",
      "Requirement already satisfied: executing>=1.2.0 in ./.venv/lib/python3.12/site-packages (from stack_data->IPython) (2.2.0)\n",
      "Requirement already satisfied: asttokens>=2.1.0 in ./.venv/lib/python3.12/site-packages (from stack_data->IPython) (3.0.0)\n",
      "Requirement already satisfied: pure-eval in ./.venv/lib/python3.12/site-packages (from stack_data->IPython) (0.2.3)\n"
     ]
    }
   ],
   "source": [
    "# Install the search engine\n",
    "!pip install langchain-tavily dotenv langgraph langchain \"langchain[ollama]\" IPython"
   ]
  },
  {
   "cell_type": "code",
   "execution_count": 72,
   "id": "a8231fec",
   "metadata": {},
   "outputs": [],
   "source": [
    "#  configure the environment\n",
    "from dotenv import load_dotenv\n",
    "load_dotenv()\n",
    "\n",
    "from langchain_tavily import TavilySearch\n",
    "\n",
    "# define the tool\n",
    "tool = TavilySearch(max_results = 2)\n",
    "tools = [tool]\n",
    "#tool.invoke(\"What is a node in langgraph?\")"
   ]
  },
  {
   "cell_type": "code",
   "execution_count": 73,
   "id": "cd7a6a7d",
   "metadata": {},
   "outputs": [],
   "source": [
    "import os\n",
    "from langchain.chat_models import init_chat_model\n",
    "\n",
    "llm = init_chat_model('ollama:llama3.2')\n",
    "llm_with_tools = llm.bind_tools(tools=tools)"
   ]
  },
  {
   "cell_type": "code",
   "execution_count": 74,
   "id": "c1ebce7c",
   "metadata": {},
   "outputs": [
    {
     "data": {
      "text/plain": [
       "<langgraph.graph.state.StateGraph at 0x10fa18620>"
      ]
     },
     "execution_count": 74,
     "metadata": {},
     "output_type": "execute_result"
    }
   ],
   "source": [
    "# defining the graph\n",
    "\n",
    "from typing import Annotated, Sequence, TypedDict\n",
    "from langgraph.graph.message import add_messages\n",
    "from langgraph.graph import StateGraph, START, END\n",
    "from pprint import pprint\n",
    "\n",
    "\n",
    "# defining the state \n",
    "class AgentState(TypedDict):\n",
    "    messages: Annotated[Sequence, add_messages]\n",
    "\n",
    "\n",
    "def chatbot(state: AgentState) -> AgentState:\n",
    "    response = llm_with_tools.invoke(state.get('messages'))\n",
    "    pprint(response)\n",
    "    return {\"messages\": [response]}\n",
    "\n",
    "graph_builder = StateGraph(AgentState)\n",
    "graph_builder.add_node(\"chatbot\", chatbot)\n",
    "\n",
    "graph_builder.add_edge(START, \"chatbot\")\n"
   ]
  },
  {
   "cell_type": "code",
   "execution_count": 75,
   "id": "6ff64b0e",
   "metadata": {},
   "outputs": [
    {
     "data": {
      "text/plain": [
       "<langgraph.graph.state.StateGraph at 0x10fa18620>"
      ]
     },
     "execution_count": 75,
     "metadata": {},
     "output_type": "execute_result"
    }
   ],
   "source": [
    "# create a function to runt the tools (Tool Node function)\n",
    "\n",
    "import json\n",
    "from langchain_core.messages import ToolMessage\n",
    "\n",
    "class BasicToolNode:\n",
    "    \"\"\"\n",
    "    A node that runs the tools required in the last AIMessage\n",
    "    \"\"\"\n",
    "\n",
    "    def __init__(self, tools: list) -> None:\n",
    "        self.tool_by_name = {tool.name: tool for tool in tools}\n",
    "\n",
    "    def __call__(self, inputs: dict):\n",
    "        # if messages are present then get the last tool message\n",
    "\n",
    "        if messages := inputs.get(\"messages\", []) :\n",
    "            message = messages[-1]\n",
    "        else:\n",
    "            raise ValueError('No Message found in input')\n",
    "        \n",
    "\n",
    "        outputs = []\n",
    "\n",
    "        # loop over the tool calls and invoke the tool to get the response\n",
    "        for tool_call in message.tool_calls:\n",
    "            tool_result = self.tool_by_name[tool_call.get('name')].invoke(\n",
    "                tool_call.get('args')\n",
    "            )\n",
    "\n",
    "            # append the tool response to outputs list\n",
    "            outputs.append(\n",
    "                ToolMessage(\n",
    "                    content=json.dumps(tool_result),\n",
    "                    name=tool_call.get('name'),\n",
    "                    tool_call_id = tool_call['id']\n",
    "                )\n",
    "            )\n",
    "        \n",
    "\n",
    "        # return the updated state\n",
    "        return {\"messages\": outputs}\n",
    "\n",
    "tool_node = BasicToolNode(tools=tools)\n",
    "\n",
    "# add the tool node to the graph\n",
    "graph_builder.add_node(\"tools\",tool_node )"
   ]
  },
  {
   "cell_type": "code",
   "execution_count": 76,
   "id": "6573066f",
   "metadata": {},
   "outputs": [],
   "source": [
    "# define the conditional edge for the graph\n",
    "\n",
    "def route_tools(state: AgentState):\n",
    "    \"\"\"\n",
    "    Use in the graph conditional edge, to route to ToolNode if the last message have tool calls, otherwise route to end node\n",
    "    \"\"\"\n",
    "\n",
    "    if isinstance(state, list):\n",
    "        ai_message = state[-1]\n",
    "    elif messages := state.get(\"messages\", []):\n",
    "        ai_message = messages[-1]\n",
    "    else:\n",
    "        raise ValueError(f\"No message found in input state to tools_edge: {state}\")\n",
    "    \n",
    " \n",
    "    # check whether the message have tool_calls attribute\n",
    "    if hasattr(ai_message, \"tool_calls\") and len(ai_message.tool_calls) > 0:\n",
    "        return \"tools\"\n",
    "    \n",
    "    return END\n",
    "\n",
    "\n",
    "# adding conditional edge to the graph\n",
    "graph_builder.add_conditional_edges(\n",
    "    source=\"chatbot\",\n",
    "    path=route_tools,\n",
    "    path_map={\n",
    "        \"tools\": \"tools\",\n",
    "        END: END\n",
    "    }\n",
    ")\n",
    "\n",
    "# adding the edge from tools to chatbot\n",
    "graph_builder.add_edge(\"tools\",\"chatbot\")\n",
    "\n",
    "# compiling the graph\n",
    "graph = graph_builder.compile()\n",
    "\n"
   ]
  },
  {
   "cell_type": "code",
   "execution_count": 77,
   "id": "e4029a8f",
   "metadata": {},
   "outputs": [
    {
     "data": {
      "image/png": "[encoded data removed]",
      "text/plain": [
       "<IPython.core.display.Image object>"
      ]
     },
     "metadata": {},
     "output_type": "display_data"
    }
   ],
   "source": [
    "# dispalaying the graph \n",
    "\n",
    "from IPython.display import Image, display\n",
    "\n",
    "display(Image(graph.get_graph().draw_mermaid_png()))"
   ]
  },
  {
   "cell_type": "code",
   "execution_count": 78,
   "id": "5a92210b",
   "metadata": {},
   "outputs": [
    {
     "name": "stdout",
     "output_type": "stream",
     "text": [
      "AIMessage(content='', additional_kwargs={}, response_metadata={'model': 'llama3.2', 'created_at': '2025-06-13T01:10:57.039805Z', 'done': True, 'done_reason': 'stop', 'total_duration': 5524330500, 'load_duration': 41460083, 'prompt_eval_count': 964, 'prompt_eval_duration': 3383553250, 'eval_count': 67, 'eval_duration': 2096142625, 'model_name': 'llama3.2'}, id='run--d00facc9-38f2-475f-b34a-e3009d255540-0', tool_calls=[{'name': 'tavily_search', 'args': {'exclude_domains': None, 'include_domains': None, 'include_images': False, 'query': 'StateGraph in LangGraph and its usefulness for building AI Agents', 'search_depth': 'advanced', 'time_range': None, 'topic': 'general'}, 'id': '3ca2497d-f074-4183-a98d-c2fb08b69037', 'type': 'tool_call'}], usage_metadata={'input_tokens': 964, 'output_tokens': 67, 'total_tokens': 1031})\n",
      "\n",
      "Assistent:  \n",
      "\n",
      "Assistent:  {\"query\": \"StateGraph in LangGraph and its usefulness for building AI Agents\", \"follow_up_questions\": null, \"answer\": null, \"images\": [], \"results\": [{\"url\": \"https://adasci.org/a-practical-guide-to-building-ai-agents-with-langgraph/\", \"title\": \"A Practical Guide to Building AI Agents With LangGraph\", \"content\": \"Here, we are going to use LangGraph and build a customer support AI chat agent using gpt-3.5-turbo model. We are going to use LangGraph, where a StateGraph object defines the structure of our AI chat agent as a \\u201cstate machine\\u201d, which is either in a resting state or active state. We\\u2019ll add nodes to represent the LLM and functions our AI chat agent and user can call and edges to specify how the bot should transition between these functions. [...] uniquely suited for creating reliable, fault-tolerant agent-based systems. It uses StateGraph to define the states of agents and has the power of being able to loop, allowing for handling more ambiguous inputs than simple chains. In this article, we will break down what LangGraph is and see how we can build a customer support [AI Agent](https://adasci.org/genais-role-in-personalizing-edge-experiences/) using LangChain and support its runtimes through the LangGraph framework. [...] LangGraph simplifies AI agent development by focusing on three key components:\\n\\n**State:** The State is an accurate representation of the current status of the agent.\\n\\n**Node:** Nodes are the building blocks executing computations. The nodes can be LLM-based, [Python code](https://adasci.org/). Each graph execution builds a state, and this is passed between nodes during the execution. These nodes understand the state and update it with the new state after the execution.\", \"score\": 0.89053273, \"raw_content\": null}, {\"url\": \"https://realpython.com/langgraph-python/\", \"title\": \"LangGraph: Build Stateful AI Agents in Python - Real Python\", \"content\": \"**What is a state graph in LangGraph?**Show/Hide\\n\\nA state graph in LangGraph is a directed graph representation of LLM workflows, where nodes represent actions like function calls, and edges dictate the workflow\\u2019s sequence, enabling conditional and cyclic operations.\\n\\n**How do you create conditional workflows in LangGraph?**Show/Hide [...] *   You can use LangGraph to build LLM workflows by **defining state graphs with nodes and edges**.\\n*   LangGraph expands LangChain\\u2019s capabilities by providing tools to build complex LLM workflows with **state, conditional edges, and cycles**.\\n*   **LLM agents** in LangGraph autonomously process tasks using state graphs to make decisions and interact with tools or APIs.\\n*   You can use LangGraph independently of LangChain, although they\\u2019re often used together to complement each other. [...] [Remove ads](https://realpython.com/account/join/)\\n\\nLangGraph is a versatile Python library designed for stateful, cyclic, and multi-actor Large Language Model (LLM) applications. LangGraph builds upon its parent library, LangChain, and allows you to build sophisticated workflows that are capable of handling the complexities of real-world LLM applications.\\n\\n**By the end of this tutorial, you\\u2019ll understand that:**\", \"score\": 0.8858788, \"raw_content\": null}], \"response_time\": 2.24}\n",
      "AIMessage(content=\"A StateGraph in LangGraph is a directed graph representation of LLM workflows, where nodes represent actions like function calls, and edges dictate the workflow's sequence, enabling conditional and cyclic operations. It allows for building complex Large Language Model (LLM) workflows with state, conditional edges, and cycles.\\n\\nLangGraph uses StateGraph to define the states of agents and has the power of being able to loop, allowing for handling more ambiguous inputs than simple chains. This makes it uniquely suited for creating reliable, fault-tolerant agent-based systems.\\n\\nThe key components of LangGraph include:\\n\\n*   **State:** The State is an accurate representation of the current status of the agent.\\n*   **Node:** Nodes are the building blocks executing computations. The nodes can be LLM-based or Python code. Each graph execution builds a state, and this is passed between nodes during the execution.\\n\\nLangGraph simplifies AI agent development by focusing on these three key components. It allows you to build sophisticated workflows that can handle the complexities of real-world LLM applications.\", additional_kwargs={}, response_metadata={'model': 'llama3.2', 'created_at': '2025-06-13T01:11:09.610958Z', 'done': True, 'done_reason': 'stop', 'total_duration': 8856997250, 'load_duration': 38506375, 'prompt_eval_count': 888, 'prompt_eval_duration': 2340660167, 'eval_count': 211, 'eval_duration': 6455149208, 'model_name': 'llama3.2'}, id='run--8ee0b8fa-c210-4d6f-8a32-7a40a752903f-0', usage_metadata={'input_tokens': 888, 'output_tokens': 211, 'total_tokens': 1099})\n",
      "\n",
      "Assistent:  A StateGraph in LangGraph is a directed graph representation of LLM workflows, where nodes represent actions like function calls, and edges dictate the workflow's sequence, enabling conditional and cyclic operations. It allows for building complex Large Language Model (LLM) workflows with state, conditional edges, and cycles.\n",
      "\n",
      "LangGraph uses StateGraph to define the states of agents and has the power of being able to loop, allowing for handling more ambiguous inputs than simple chains. This makes it uniquely suited for creating reliable, fault-tolerant agent-based systems.\n",
      "\n",
      "The key components of LangGraph include:\n",
      "\n",
      "*   **State:** The State is an accurate representation of the current status of the agent.\n",
      "*   **Node:** Nodes are the building blocks executing computations. The nodes can be LLM-based or Python code. Each graph execution builds a state, and this is passed between nodes during the execution.\n",
      "\n",
      "LangGraph simplifies AI agent development by focusing on these three key components. It allows you to build sophisticated workflows that can handle the complexities of real-world LLM applications.\n",
      "\n",
      "Good Bye!!!\n"
     ]
    }
   ],
   "source": [
    "# ask the chatbot the questions\n",
    "from pprint import pprint\n",
    "\n",
    "def stream_graph_updates(user_input: str)->None:\n",
    "    initial_state = {\"messages\":[{\"role\": \"user\",\"content\": user_input}]}\n",
    "    for event in graph.stream(initial_state):\n",
    "        #pprint(event)\n",
    "        for value in event.values():\n",
    "            print(\"\\nAssistent: \", value.get('messages')[-1].content)\n",
    "\n",
    "\n",
    "while True:\n",
    "    try:\n",
    "        user_input = input(\"\\nUser: \").strip()\n",
    "\n",
    "        if user_input.lower() in ['q', 'exit', 'quit']:\n",
    "            print(\"\\nGood Bye!!!\")\n",
    "            break\n",
    "\n",
    "        stream_graph_updates(user_input=user_input)\n",
    "    except Exception as e:\n",
    "        user_input = \"What do you know about LangGraph?\"\n",
    "        print(\"User: \", user_input)\n",
    "        stream_graph_updates(user_input=user_input)\n",
    "        break"
   ]
  },
  {
   "cell_type": "code",
   "execution_count": null,
   "id": "fea56c3c",
   "metadata": {},
   "outputs": [],
   "source": []
  }
 ],
 "metadata": {
  "kernelspec": {
   "display_name": ".venv",
   "language": "python",
   "name": "python3"
  },
  "language_info": {
   "codemirror_mode": {
    "name": "ipython",
    "version": 3
   },
   "file_extension": ".py",
   "mimetype": "text/x-python",
   "name": "python",
   "nbconvert_exporter": "python",
   "pygments_lexer": "ipython3",
   "version": "3.12.9"
  }
 },
 "nbformat": 4,
 "nbformat_minor": 5
}
